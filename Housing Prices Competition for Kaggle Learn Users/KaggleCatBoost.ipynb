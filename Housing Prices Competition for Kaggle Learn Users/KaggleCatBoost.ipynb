{
  "nbformat": 4,
  "nbformat_minor": 0,
  "metadata": {
    "colab": {
      "provenance": [],
      "toc_visible": true,
      "gpuType": "T4",
      "authorship_tag": "ABX9TyPLlKe1qlUsSY6CycU2GKZ+",
      "include_colab_link": true
    },
    "kernelspec": {
      "name": "python3",
      "display_name": "Python 3"
    },
    "language_info": {
      "name": "python"
    },
    "accelerator": "GPU"
  },
  "cells": [
    {
      "cell_type": "markdown",
      "metadata": {
        "id": "view-in-github",
        "colab_type": "text"
      },
      "source": [
        "<a href=\"https://colab.research.google.com/github/OlgaShishikina/kaggle/blob/main/Housing%20Prices%20Competition%20for%20Kaggle%20Learn%20Users/KaggleCatBoost.ipynb\" target=\"_parent\"><img src=\"https://colab.research.google.com/assets/colab-badge.svg\" alt=\"Open In Colab\"/></a>"
      ]
    },
    {
      "cell_type": "code",
      "execution_count": 32,
      "metadata": {
        "id": "RbeRm6EcIBgL"
      },
      "outputs": [],
      "source": []
    },
    {
      "cell_type": "markdown",
      "source": [],
      "metadata": {
        "id": "jCPSsSlTIIbS"
      }
    },
    {
      "cell_type": "markdown",
      "metadata": {
        "id": "VQxXs1CDU5nM"
      },
      "source": [
        "# Kaggle Предсказание цены дома"
      ]
    },
    {
      "cell_type": "markdown",
      "source": [
        "В данном блокноте будет рассмотрена задача машинного обучения с использованием набора данных, содержащих характеристики дома.\n",
        "\n",
        "Это задача регрессионного машинного обучения с супервизией: при наличии набора данных с целевыми показателями (в данном случае оценка) мы хотим обучить модель, которая научится сопоставлять признаки с целевыми показателями."
      ],
      "metadata": {
        "id": "HcL67uMQ7HE3"
      }
    },
    {
      "cell_type": "markdown",
      "metadata": {
        "id": "mtntqjhhU9z3"
      },
      "source": [
        "## Описание проекта"
      ]
    },
    {
      "cell_type": "markdown",
      "metadata": {
        "id": "M6lUQ_45VGhw"
      },
      "source": [
        "## План проекта\n",
        "\n",
        "Очистка и форматирование данных\n",
        "\n",
        "Разведочный анализ данных\n",
        "\n",
        "Feature engineering и отбор признаков\n",
        "\n",
        " Построение пайплайнна и сравнение нескольких моделей машинного обучения по метрике производительности\n",
        "\n",
        "Настройку гиперпараметров лучшей модели, чтобы оптимизировать ее для решения задачи\n",
        "\n",
        "Оцените лучшую модель на тестовом наборе\n",
        "\n",
        "Интерпретируйте результаты модели, насколько это возможно.\n",
        "\n",
        "Сделайте выводы и напишите хорошо документированный отчет\n",
        "\n"
      ]
    },
    {
      "cell_type": "markdown",
      "metadata": {
        "id": "aOUuQYECSIQw"
      },
      "source": [
        "\n",
        "## Описание данных\n",
        "\n",
        " SalePrice - the property's sale price in dollars. This is the target variable that you're trying to predict.\n",
        "\n",
        "MSSubClass: The building class\n",
        "\n",
        "MSZoning: The general zoning classification\n",
        "\n",
        "LotFrontage: Linear feet of street connected to property\n",
        "\n",
        "LotArea: Lot size in square feet\n",
        "\n",
        "Street: Type of road access\n",
        "\n",
        "Alley: Type of alley access\n",
        "\n",
        "LotShape: General shape of property\n",
        "\n",
        "LandContour: Flatness of the property\n",
        "\n",
        "Utilities: Type of utilities available\n",
        "\n",
        "LotConfig: Lot configuration\n",
        "\n",
        "LandSlope: Slope of property\n",
        "\n",
        "Neighborhood: Physical locations within Ames city limits\n",
        "\n",
        "Condition1: Proximity to main road or railroad\n",
        "\n",
        "Condition2: Proximity to main road or railroad (if a second is present)\n",
        "\n",
        "BldgType: Type of dwelling\n",
        "\n",
        "HouseStyle: Style of dwelling\n",
        "\n",
        "OverallQual: Overall material and finish quality\n",
        "\n",
        "OverallCond: Overall condition rating\n",
        "\n",
        "YearBuilt: Original construction date\n",
        "\n",
        "YearRemodAdd: Remodel date\n",
        "\n",
        "RoofStyle: Type of roof\n",
        "\n",
        "RoofMatl: Roof material\n",
        "\n",
        "Exterior1st: Exterior covering on house\n",
        "\n",
        "Exterior2nd: Exterior covering on house (if more than one material)\n",
        "\n",
        "MasVnrType: Masonry veneer type\n",
        "\n",
        "MasVnrArea: Masonry veneer area in square feet\n",
        "\n",
        "ExterQual: Exterior material quality\n",
        "\n",
        "ExterCond: Present condition of the material on the exterior\n",
        "\n",
        "Foundation: Type of foundation\n",
        "\n",
        "BsmtQual: Height of the basement\n",
        "\n",
        "BsmtCond: General condition of the basement\n",
        "\n",
        "BsmtExposure: Walkout or garden level basement walls\n",
        "\n",
        "BsmtFinType1: Quality of basement finished area\n",
        "\n",
        "BsmtFinSF1: Type 1 finished square feet\n",
        "\n",
        "BsmtFinType2: Quality of second finished area (if present)\n",
        "\n",
        "BsmtFinSF2: Type 2 finished square feet\n",
        "\n",
        "BsmtUnfSF: Unfinished square feet of basement area\n",
        "\n",
        "TotalBsmtSF: Total square feet of basement area\n",
        "\n",
        "Heating: Type of heating\n",
        "\n",
        "HeatingQC: Heating quality and condition\n",
        "\n",
        "CentralAir: Central air conditioning\n",
        "\n",
        "Electrical: Electrical system\n",
        "\n",
        "1stFlrSF: First Floor square feet\n",
        "\n",
        "2ndFlrSF: Second floor square feet\n",
        "\n",
        "LowQualFinSF: Low quality finished square feet (all floors)\n",
        "\n",
        "GrLivArea: Above grade (ground) living area square feet\n",
        "\n",
        "BsmtFullBath: Basement full bathrooms\n",
        "\n",
        "BsmtHalfBath: Basement half bathrooms\n",
        "\n",
        "FullBath: Full bathrooms above grade\n",
        "\n",
        "HalfBath: Half baths above grade\n",
        "\n",
        "Bedroom: Number of bedrooms above basement level\n",
        "\n",
        "Kitchen: Number of kitchens\n",
        "\n",
        "KitchenQual: Kitchen quality\n",
        "\n",
        "TotRmsAbvGrd: Total rooms above grade (does not include bathrooms)\n",
        "\n",
        "Functional: Home functionality rating\n",
        "\n",
        "Fireplaces: Number of fireplaces\n",
        "\n",
        "FireplaceQu: Fireplace quality\n",
        "\n",
        "GarageType: Garage location\n",
        "\n",
        "GarageYrBlt: Year garage was built\n",
        "\n",
        "GarageFinish: Interior finish of the garage\n",
        "\n",
        "GarageCars: Size of garage in car capacity\n",
        "\n",
        "GarageArea: Size of garage in square feet\n",
        "\n",
        "GarageQual: Garage quality\n",
        "\n",
        "GarageCond: Garage condition\n",
        "\n",
        "PavedDrive: Paved driveway\n",
        "\n",
        "WoodDeckSF: Wood deck area in square feet\n",
        "\n",
        "OpenPorchSF: Open porch area in square feet\n",
        "\n",
        "EnclosedPorch: Enclosed porch area in square feet\n",
        "\n",
        "3SsnPorch: Three season porch area in square feet\n",
        "\n",
        "ScreenPorch: Screen porch area in square feet\n",
        "\n",
        "PoolArea: Pool area in square feet\n",
        "\n",
        "PoolQC: Pool quality\n",
        "\n",
        "Fence: Fence quality\n",
        "\n",
        "MiscFeature: Miscellaneous feature not covered in other categories\n",
        "\n",
        "MiscVal: $Value of miscellaneous feature\n",
        "\n",
        "MoSold: Month Sold\n",
        "\n",
        "YrSold: Year Sold\n",
        "\n",
        "SaleType: Type of sale\n",
        "\n",
        "SaleCondition: Condition of sale"
      ]
    },
    {
      "cell_type": "markdown",
      "source": [
        "## Установка недостающих библиотек\n",
        "\n"
      ],
      "metadata": {
        "id": "Ng8Dk4LjN7iB"
      }
    },
    {
      "cell_type": "code",
      "execution_count": 33,
      "metadata": {
        "id": "FomSjftPYMWt"
      },
      "outputs": [],
      "source": [
        "pip install phik -q"
      ]
    },
    {
      "cell_type": "code",
      "execution_count": 3,
      "metadata": {
        "colab": {
          "base_uri": "https://localhost:8080/"
        },
        "id": "AGghxUDySgaG",
        "outputId": "0156fe87-486a-4d1d-e251-3a487badfa4b"
      },
      "outputs": [
        {
          "output_type": "stream",
          "name": "stdout",
          "text": [
            "\u001b[2K   \u001b[90m━━━━━━━━━━━━━━━━━━━━━━━━━━━━━━━━━━━━━━━━\u001b[0m \u001b[32m98.7/98.7 MB\u001b[0m \u001b[31m5.2 MB/s\u001b[0m eta \u001b[36m0:00:00\u001b[0m\n",
            "\u001b[?25h"
          ]
        }
      ],
      "source": [
        "pip install catboost -q"
      ]
    },
    {
      "cell_type": "markdown",
      "source": [
        "## Импорты\n",
        "\n",
        "Мы будем использовать стандартные библиотеки для работы с данными и машинного обучения: numpy, pandas и scikit-learn. Также мы используем matplotlib и seaborn для визуализации.\n"
      ],
      "metadata": {
        "id": "uLGMDKtK-SX2"
      }
    },
    {
      "cell_type": "code",
      "execution_count": 4,
      "metadata": {
        "id": "4UC0nbWPSGkO",
        "colab": {
          "base_uri": "https://localhost:8080/"
        },
        "outputId": "618daddc-602e-4cc0-ed46-bc148b1fd5ee"
      },
      "outputs": [
        {
          "output_type": "stream",
          "name": "stderr",
          "text": [
            "/usr/local/lib/python3.11/dist-packages/dask/dataframe/__init__.py:42: FutureWarning: \n",
            "Dask dataframe query planning is disabled because dask-expr is not installed.\n",
            "\n",
            "You can install it with `pip install dask[dataframe]` or `conda install dask`.\n",
            "This will raise in a future version.\n",
            "\n",
            "  warnings.warn(msg, FutureWarning)\n"
          ]
        }
      ],
      "source": [
        "# импорт библиотек\n",
        "import pandas as pd\n",
        "import time\n",
        "import scipy.stats as st\n",
        "import matplotlib.pyplot as plt\n",
        "import numpy as np\n",
        "import seaborn as sns\n",
        "from sklearn.model_selection import  RandomizedSearchCV, train_test_split, cross_val_score\n",
        "from sklearn.preprocessing import OrdinalEncoder, StandardScaler, MinMaxScaler,OneHotEncoder,LabelEncoder\n",
        "from sklearn.metrics import (\n",
        "    accuracy_score,\n",
        "    roc_auc_score\n",
        ")\n",
        "from lightgbm import LGBMRegressor\n",
        "from catboost import CatBoostRegressor\n",
        "from sklearn.metrics import mean_squared_error, mean_absolute_error\n",
        "# загружаем нужные классы\n",
        "from sklearn.pipeline import Pipeline\n",
        "from sklearn.compose import ColumnTransformer\n",
        "# класс для работы с пропусками\n",
        "from sklearn.impute import SimpleImputer\n",
        "from sklearn.tree import DecisionTreeClassifier\n",
        "from sklearn.ensemble import RandomForestRegressor\n",
        "from lightgbm import LGBMClassifier\n",
        "import lightgbm as lgb\n",
        "# отключаем предупреждения\n",
        "import warnings\n",
        "import re\n",
        "from phik import phik_matrix\n",
        "from phik.report import plot_correlation_matrix\n",
        "from sklearn.pipeline import make_pipeline\n",
        "from sklearn.linear_model import LinearRegression, SGDRegressor, Lasso\n",
        "from sklearn.tree import DecisionTreeRegressor\n",
        "from sklearn.model_selection import GridSearchCV, RandomizedSearchCV"
      ]
    },
    {
      "cell_type": "markdown",
      "metadata": {
        "id": "FNinwxHIdog-"
      },
      "source": [
        "## Функции"
      ]
    },
    {
      "cell_type": "code",
      "source": [
        "def missing_data (all_data):\n",
        "  all_data_na = (all_data.isnull().sum() / len(all_data)) * 100\n",
        "  all_data_na = all_data_na.drop(all_data_na[all_data_na == 0].index).sort_values(ascending=False)[:30]\n",
        "  missing_data = pd.DataFrame({'Missing Ratio' :all_data_na})\n",
        "  missing_data.head(30)"
      ],
      "metadata": {
        "id": "BA-FMw__0OAd"
      },
      "execution_count": 5,
      "outputs": []
    },
    {
      "cell_type": "code",
      "source": [
        "# Function to calculate missing values by column\n",
        "def missing_values_table(df):\n",
        "        # Total missing values\n",
        "        mis_val = df.isnull().sum()\n",
        "\n",
        "        # Percentage of missing values\n",
        "        mis_val_percent = 100 * df.isnull().sum() / len(df)\n",
        "\n",
        "        # Make a table with the results\n",
        "        mis_val_table = pd.concat([mis_val, mis_val_percent], axis=1)\n",
        "\n",
        "        # Rename the columns\n",
        "        mis_val_table_ren_columns = mis_val_table.rename(\n",
        "        columns = {0 : 'Missing Values', 1 : '% of Total Values'})\n",
        "\n",
        "        # Sort the table by percentage of missing descending\n",
        "        mis_val_table_ren_columns = mis_val_table_ren_columns[\n",
        "            mis_val_table_ren_columns.iloc[:,1] != 0].sort_values(\n",
        "        '% of Total Values', ascending=False).round(1)\n",
        "\n",
        "        # Print some summary information\n",
        "        print (\"Your selected dataframe has \" + str(df.shape[1]) + \" columns.\\n\"\n",
        "            \"There are \" + str(mis_val_table_ren_columns.shape[0]) +\n",
        "              \" columns that have missing values.\")\n",
        "\n",
        "        # Return the dataframe with missing information\n",
        "        return mis_val_table_ren_columns"
      ],
      "metadata": {
        "id": "r2HEPiVJO_5u"
      },
      "execution_count": 6,
      "outputs": []
    },
    {
      "cell_type": "code",
      "execution_count": 7,
      "metadata": {
        "id": "1uIbKd9vjsY1"
      },
      "outputs": [],
      "source": [
        "#Функции\n",
        "def analyze_outliers(df, col):\n",
        "  '''поиск выбросов с помощью IQR'''\n",
        "  Q3 = np.quantile(df[col], 0.75, axis=0)\n",
        "  Q1 = np.quantile(df[col], 0.25, axis=0)\n",
        "  IQR = Q3 - Q1\n",
        "  upper = round(Q3 + 1.5 * IQR, 2)\n",
        "  lower = round(Q1 - 1.5 * IQR, 2)\n",
        "  if round(Q1 - 1.5 * IQR, 2)<0:\n",
        "    lower = 0\n",
        "  print('____________________________________________________________________')\n",
        "  print(f'интервал фактических значений для переменной {col} от {round(df[col].min(),2)} до {round(df[col].max(),2)}')\n",
        "  print(f'интервал нормальных значений для переменной {col} от {lower} до {upper}')\n",
        "\n",
        "  print(f'переменная {col} содержит аномальных значений : {round(df[(df[col]>upper)| (df[col]<lower)].shape[0]/df.shape[0]*100, 2)}%')\n",
        "\n",
        "\n",
        "\n",
        "  return lower, upper"
      ]
    },
    {
      "cell_type": "code",
      "execution_count": 8,
      "metadata": {
        "id": "IOggbDC2rfu5"
      },
      "outputs": [],
      "source": [
        "# функция для построения гистограммы и ящика с усами\n",
        "\n",
        "def hist_box(data,col):\n",
        "    fig, axes = plt.subplots(nrows=1, ncols=2, figsize=(15,5))\n",
        "    #гистограмма\n",
        "    sns.histplot(data = data, x = col, ax=axes[0], bins=50,kde=True)\n",
        "    axes[0].set_title('гистограмма')\n",
        "    axes[0].set_xlabel(col)\n",
        "    axes[0].set_ylabel('колво')\n",
        "    #ящик с усами\n",
        "    sns.boxplot(data = data, x=col, ax=axes[1])\n",
        "    axes[1].set_title('диаграмма размаха')\n",
        "    fig.suptitle(col)\n",
        "    plt.show()"
      ]
    },
    {
      "cell_type": "code",
      "execution_count": 9,
      "metadata": {
        "id": "9V99PthqUoHx"
      },
      "outputs": [],
      "source": [
        "# функция для построения графика для категориальных данных\n",
        "def graf(data,col,label):\n",
        "    print(data[col].value_counts())\n",
        "    data[col].groupby(data[col]).count().plot(kind=\"pie\",ylabel=label,fontsize=6);"
      ]
    },
    {
      "cell_type": "code",
      "execution_count": 10,
      "metadata": {
        "id": "aVYyNXc7dsUP"
      },
      "outputs": [],
      "source": [
        "def num_cat(df):\n",
        "  numeric_features = df.select_dtypes(include=['float64', 'int64']).columns\n",
        "  print('Числовые столбцы:',numeric_features)\n",
        "  categorical_features = df.select_dtypes(include=['object']).columns\n",
        "  print('Категориальные столбцы:',categorical_features)\n",
        "  return numeric_features,categorical_features\n"
      ]
    },
    {
      "cell_type": "code",
      "execution_count": 11,
      "metadata": {
        "id": "3HJoKYBGhuWq"
      },
      "outputs": [],
      "source": [
        "# фиксируем константы\n",
        "RANDOM_STATE = 91224"
      ]
    },
    {
      "cell_type": "markdown",
      "metadata": {
        "id": "M4joGQkiUvxx"
      },
      "source": [
        "## Чтение данных"
      ]
    },
    {
      "cell_type": "code",
      "execution_count": 12,
      "metadata": {
        "colab": {
          "base_uri": "https://localhost:8080/"
        },
        "id": "6MRuNQKBVa9T",
        "outputId": "76b0e146-7b96-48cf-df33-bb524d34a3aa"
      },
      "outputs": [
        {
          "output_type": "stream",
          "name": "stdout",
          "text": [
            "load from github\n"
          ]
        }
      ],
      "source": [
        "# чтение данных\n",
        "try:\n",
        "  train = pd.read_csv('train.csv')\n",
        "  test = pd.read_csv('test.csv')\n",
        "  print('load from current folder')\n",
        "except:\n",
        "  train = pd.read_csv('https://raw.githubusercontent.com/OlgaShishikina/kaggle/main/Housing%20Prices%20Competition%20for%20Kaggle%20Learn%20Users/train.csv')\n",
        "  test = pd.read_csv('https://raw.githubusercontent.com/OlgaShishikina/kaggle/main/Housing%20Prices%20Competition%20for%20Kaggle%20Learn%20Users/test.csv')\n",
        "  print('load from github')\n",
        "\n",
        "\n"
      ]
    },
    {
      "cell_type": "code",
      "execution_count": 13,
      "metadata": {
        "colab": {
          "base_uri": "https://localhost:8080/",
          "height": 255
        },
        "id": "yH7PLRjPfue-",
        "outputId": "ccf9b692-a89f-469c-82bc-c2198029a6a5"
      },
      "outputs": [
        {
          "output_type": "display_data",
          "data": {
            "text/plain": [
              "   Id  MSSubClass MSZoning  LotFrontage  LotArea Street Alley LotShape  \\\n",
              "0   1          60       RL         65.0     8450   Pave   NaN      Reg   \n",
              "1   2          20       RL         80.0     9600   Pave   NaN      Reg   \n",
              "2   3          60       RL         68.0    11250   Pave   NaN      IR1   \n",
              "3   4          70       RL         60.0     9550   Pave   NaN      IR1   \n",
              "4   5          60       RL         84.0    14260   Pave   NaN      IR1   \n",
              "\n",
              "  LandContour Utilities  ... PoolArea PoolQC Fence MiscFeature MiscVal MoSold  \\\n",
              "0         Lvl    AllPub  ...        0    NaN   NaN         NaN       0      2   \n",
              "1         Lvl    AllPub  ...        0    NaN   NaN         NaN       0      5   \n",
              "2         Lvl    AllPub  ...        0    NaN   NaN         NaN       0      9   \n",
              "3         Lvl    AllPub  ...        0    NaN   NaN         NaN       0      2   \n",
              "4         Lvl    AllPub  ...        0    NaN   NaN         NaN       0     12   \n",
              "\n",
              "  YrSold  SaleType  SaleCondition  SalePrice  \n",
              "0   2008        WD         Normal     208500  \n",
              "1   2007        WD         Normal     181500  \n",
              "2   2008        WD         Normal     223500  \n",
              "3   2006        WD        Abnorml     140000  \n",
              "4   2008        WD         Normal     250000  \n",
              "\n",
              "[5 rows x 81 columns]"
            ],
            "text/html": [
              "\n",
              "  <div id=\"df-9d26127c-2cc3-45e4-8fa0-415eef30bca1\" class=\"colab-df-container\">\n",
              "    <div>\n",
              "<style scoped>\n",
              "    .dataframe tbody tr th:only-of-type {\n",
              "        vertical-align: middle;\n",
              "    }\n",
              "\n",
              "    .dataframe tbody tr th {\n",
              "        vertical-align: top;\n",
              "    }\n",
              "\n",
              "    .dataframe thead th {\n",
              "        text-align: right;\n",
              "    }\n",
              "</style>\n",
              "<table border=\"1\" class=\"dataframe\">\n",
              "  <thead>\n",
              "    <tr style=\"text-align: right;\">\n",
              "      <th></th>\n",
              "      <th>Id</th>\n",
              "      <th>MSSubClass</th>\n",
              "      <th>MSZoning</th>\n",
              "      <th>LotFrontage</th>\n",
              "      <th>LotArea</th>\n",
              "      <th>Street</th>\n",
              "      <th>Alley</th>\n",
              "      <th>LotShape</th>\n",
              "      <th>LandContour</th>\n",
              "      <th>Utilities</th>\n",
              "      <th>...</th>\n",
              "      <th>PoolArea</th>\n",
              "      <th>PoolQC</th>\n",
              "      <th>Fence</th>\n",
              "      <th>MiscFeature</th>\n",
              "      <th>MiscVal</th>\n",
              "      <th>MoSold</th>\n",
              "      <th>YrSold</th>\n",
              "      <th>SaleType</th>\n",
              "      <th>SaleCondition</th>\n",
              "      <th>SalePrice</th>\n",
              "    </tr>\n",
              "  </thead>\n",
              "  <tbody>\n",
              "    <tr>\n",
              "      <th>0</th>\n",
              "      <td>1</td>\n",
              "      <td>60</td>\n",
              "      <td>RL</td>\n",
              "      <td>65.0</td>\n",
              "      <td>8450</td>\n",
              "      <td>Pave</td>\n",
              "      <td>NaN</td>\n",
              "      <td>Reg</td>\n",
              "      <td>Lvl</td>\n",
              "      <td>AllPub</td>\n",
              "      <td>...</td>\n",
              "      <td>0</td>\n",
              "      <td>NaN</td>\n",
              "      <td>NaN</td>\n",
              "      <td>NaN</td>\n",
              "      <td>0</td>\n",
              "      <td>2</td>\n",
              "      <td>2008</td>\n",
              "      <td>WD</td>\n",
              "      <td>Normal</td>\n",
              "      <td>208500</td>\n",
              "    </tr>\n",
              "    <tr>\n",
              "      <th>1</th>\n",
              "      <td>2</td>\n",
              "      <td>20</td>\n",
              "      <td>RL</td>\n",
              "      <td>80.0</td>\n",
              "      <td>9600</td>\n",
              "      <td>Pave</td>\n",
              "      <td>NaN</td>\n",
              "      <td>Reg</td>\n",
              "      <td>Lvl</td>\n",
              "      <td>AllPub</td>\n",
              "      <td>...</td>\n",
              "      <td>0</td>\n",
              "      <td>NaN</td>\n",
              "      <td>NaN</td>\n",
              "      <td>NaN</td>\n",
              "      <td>0</td>\n",
              "      <td>5</td>\n",
              "      <td>2007</td>\n",
              "      <td>WD</td>\n",
              "      <td>Normal</td>\n",
              "      <td>181500</td>\n",
              "    </tr>\n",
              "    <tr>\n",
              "      <th>2</th>\n",
              "      <td>3</td>\n",
              "      <td>60</td>\n",
              "      <td>RL</td>\n",
              "      <td>68.0</td>\n",
              "      <td>11250</td>\n",
              "      <td>Pave</td>\n",
              "      <td>NaN</td>\n",
              "      <td>IR1</td>\n",
              "      <td>Lvl</td>\n",
              "      <td>AllPub</td>\n",
              "      <td>...</td>\n",
              "      <td>0</td>\n",
              "      <td>NaN</td>\n",
              "      <td>NaN</td>\n",
              "      <td>NaN</td>\n",
              "      <td>0</td>\n",
              "      <td>9</td>\n",
              "      <td>2008</td>\n",
              "      <td>WD</td>\n",
              "      <td>Normal</td>\n",
              "      <td>223500</td>\n",
              "    </tr>\n",
              "    <tr>\n",
              "      <th>3</th>\n",
              "      <td>4</td>\n",
              "      <td>70</td>\n",
              "      <td>RL</td>\n",
              "      <td>60.0</td>\n",
              "      <td>9550</td>\n",
              "      <td>Pave</td>\n",
              "      <td>NaN</td>\n",
              "      <td>IR1</td>\n",
              "      <td>Lvl</td>\n",
              "      <td>AllPub</td>\n",
              "      <td>...</td>\n",
              "      <td>0</td>\n",
              "      <td>NaN</td>\n",
              "      <td>NaN</td>\n",
              "      <td>NaN</td>\n",
              "      <td>0</td>\n",
              "      <td>2</td>\n",
              "      <td>2006</td>\n",
              "      <td>WD</td>\n",
              "      <td>Abnorml</td>\n",
              "      <td>140000</td>\n",
              "    </tr>\n",
              "    <tr>\n",
              "      <th>4</th>\n",
              "      <td>5</td>\n",
              "      <td>60</td>\n",
              "      <td>RL</td>\n",
              "      <td>84.0</td>\n",
              "      <td>14260</td>\n",
              "      <td>Pave</td>\n",
              "      <td>NaN</td>\n",
              "      <td>IR1</td>\n",
              "      <td>Lvl</td>\n",
              "      <td>AllPub</td>\n",
              "      <td>...</td>\n",
              "      <td>0</td>\n",
              "      <td>NaN</td>\n",
              "      <td>NaN</td>\n",
              "      <td>NaN</td>\n",
              "      <td>0</td>\n",
              "      <td>12</td>\n",
              "      <td>2008</td>\n",
              "      <td>WD</td>\n",
              "      <td>Normal</td>\n",
              "      <td>250000</td>\n",
              "    </tr>\n",
              "  </tbody>\n",
              "</table>\n",
              "<p>5 rows × 81 columns</p>\n",
              "</div>\n",
              "    <div class=\"colab-df-buttons\">\n",
              "\n",
              "  <div class=\"colab-df-container\">\n",
              "    <button class=\"colab-df-convert\" onclick=\"convertToInteractive('df-9d26127c-2cc3-45e4-8fa0-415eef30bca1')\"\n",
              "            title=\"Convert this dataframe to an interactive table.\"\n",
              "            style=\"display:none;\">\n",
              "\n",
              "  <svg xmlns=\"http://www.w3.org/2000/svg\" height=\"24px\" viewBox=\"0 -960 960 960\">\n",
              "    <path d=\"M120-120v-720h720v720H120Zm60-500h600v-160H180v160Zm220 220h160v-160H400v160Zm0 220h160v-160H400v160ZM180-400h160v-160H180v160Zm440 0h160v-160H620v160ZM180-180h160v-160H180v160Zm440 0h160v-160H620v160Z\"/>\n",
              "  </svg>\n",
              "    </button>\n",
              "\n",
              "  <style>\n",
              "    .colab-df-container {\n",
              "      display:flex;\n",
              "      gap: 12px;\n",
              "    }\n",
              "\n",
              "    .colab-df-convert {\n",
              "      background-color: #E8F0FE;\n",
              "      border: none;\n",
              "      border-radius: 50%;\n",
              "      cursor: pointer;\n",
              "      display: none;\n",
              "      fill: #1967D2;\n",
              "      height: 32px;\n",
              "      padding: 0 0 0 0;\n",
              "      width: 32px;\n",
              "    }\n",
              "\n",
              "    .colab-df-convert:hover {\n",
              "      background-color: #E2EBFA;\n",
              "      box-shadow: 0px 1px 2px rgba(60, 64, 67, 0.3), 0px 1px 3px 1px rgba(60, 64, 67, 0.15);\n",
              "      fill: #174EA6;\n",
              "    }\n",
              "\n",
              "    .colab-df-buttons div {\n",
              "      margin-bottom: 4px;\n",
              "    }\n",
              "\n",
              "    [theme=dark] .colab-df-convert {\n",
              "      background-color: #3B4455;\n",
              "      fill: #D2E3FC;\n",
              "    }\n",
              "\n",
              "    [theme=dark] .colab-df-convert:hover {\n",
              "      background-color: #434B5C;\n",
              "      box-shadow: 0px 1px 3px 1px rgba(0, 0, 0, 0.15);\n",
              "      filter: drop-shadow(0px 1px 2px rgba(0, 0, 0, 0.3));\n",
              "      fill: #FFFFFF;\n",
              "    }\n",
              "  </style>\n",
              "\n",
              "    <script>\n",
              "      const buttonEl =\n",
              "        document.querySelector('#df-9d26127c-2cc3-45e4-8fa0-415eef30bca1 button.colab-df-convert');\n",
              "      buttonEl.style.display =\n",
              "        google.colab.kernel.accessAllowed ? 'block' : 'none';\n",
              "\n",
              "      async function convertToInteractive(key) {\n",
              "        const element = document.querySelector('#df-9d26127c-2cc3-45e4-8fa0-415eef30bca1');\n",
              "        const dataTable =\n",
              "          await google.colab.kernel.invokeFunction('convertToInteractive',\n",
              "                                                    [key], {});\n",
              "        if (!dataTable) return;\n",
              "\n",
              "        const docLinkHtml = 'Like what you see? Visit the ' +\n",
              "          '<a target=\"_blank\" href=https://colab.research.google.com/notebooks/data_table.ipynb>data table notebook</a>'\n",
              "          + ' to learn more about interactive tables.';\n",
              "        element.innerHTML = '';\n",
              "        dataTable['output_type'] = 'display_data';\n",
              "        await google.colab.output.renderOutput(dataTable, element);\n",
              "        const docLink = document.createElement('div');\n",
              "        docLink.innerHTML = docLinkHtml;\n",
              "        element.appendChild(docLink);\n",
              "      }\n",
              "    </script>\n",
              "  </div>\n",
              "\n",
              "\n",
              "<div id=\"df-f0e7eaae-0abd-42b0-a77f-04cc6841abfe\">\n",
              "  <button class=\"colab-df-quickchart\" onclick=\"quickchart('df-f0e7eaae-0abd-42b0-a77f-04cc6841abfe')\"\n",
              "            title=\"Suggest charts\"\n",
              "            style=\"display:none;\">\n",
              "\n",
              "<svg xmlns=\"http://www.w3.org/2000/svg\" height=\"24px\"viewBox=\"0 0 24 24\"\n",
              "     width=\"24px\">\n",
              "    <g>\n",
              "        <path d=\"M19 3H5c-1.1 0-2 .9-2 2v14c0 1.1.9 2 2 2h14c1.1 0 2-.9 2-2V5c0-1.1-.9-2-2-2zM9 17H7v-7h2v7zm4 0h-2V7h2v10zm4 0h-2v-4h2v4z\"/>\n",
              "    </g>\n",
              "</svg>\n",
              "  </button>\n",
              "\n",
              "<style>\n",
              "  .colab-df-quickchart {\n",
              "      --bg-color: #E8F0FE;\n",
              "      --fill-color: #1967D2;\n",
              "      --hover-bg-color: #E2EBFA;\n",
              "      --hover-fill-color: #174EA6;\n",
              "      --disabled-fill-color: #AAA;\n",
              "      --disabled-bg-color: #DDD;\n",
              "  }\n",
              "\n",
              "  [theme=dark] .colab-df-quickchart {\n",
              "      --bg-color: #3B4455;\n",
              "      --fill-color: #D2E3FC;\n",
              "      --hover-bg-color: #434B5C;\n",
              "      --hover-fill-color: #FFFFFF;\n",
              "      --disabled-bg-color: #3B4455;\n",
              "      --disabled-fill-color: #666;\n",
              "  }\n",
              "\n",
              "  .colab-df-quickchart {\n",
              "    background-color: var(--bg-color);\n",
              "    border: none;\n",
              "    border-radius: 50%;\n",
              "    cursor: pointer;\n",
              "    display: none;\n",
              "    fill: var(--fill-color);\n",
              "    height: 32px;\n",
              "    padding: 0;\n",
              "    width: 32px;\n",
              "  }\n",
              "\n",
              "  .colab-df-quickchart:hover {\n",
              "    background-color: var(--hover-bg-color);\n",
              "    box-shadow: 0 1px 2px rgba(60, 64, 67, 0.3), 0 1px 3px 1px rgba(60, 64, 67, 0.15);\n",
              "    fill: var(--button-hover-fill-color);\n",
              "  }\n",
              "\n",
              "  .colab-df-quickchart-complete:disabled,\n",
              "  .colab-df-quickchart-complete:disabled:hover {\n",
              "    background-color: var(--disabled-bg-color);\n",
              "    fill: var(--disabled-fill-color);\n",
              "    box-shadow: none;\n",
              "  }\n",
              "\n",
              "  .colab-df-spinner {\n",
              "    border: 2px solid var(--fill-color);\n",
              "    border-color: transparent;\n",
              "    border-bottom-color: var(--fill-color);\n",
              "    animation:\n",
              "      spin 1s steps(1) infinite;\n",
              "  }\n",
              "\n",
              "  @keyframes spin {\n",
              "    0% {\n",
              "      border-color: transparent;\n",
              "      border-bottom-color: var(--fill-color);\n",
              "      border-left-color: var(--fill-color);\n",
              "    }\n",
              "    20% {\n",
              "      border-color: transparent;\n",
              "      border-left-color: var(--fill-color);\n",
              "      border-top-color: var(--fill-color);\n",
              "    }\n",
              "    30% {\n",
              "      border-color: transparent;\n",
              "      border-left-color: var(--fill-color);\n",
              "      border-top-color: var(--fill-color);\n",
              "      border-right-color: var(--fill-color);\n",
              "    }\n",
              "    40% {\n",
              "      border-color: transparent;\n",
              "      border-right-color: var(--fill-color);\n",
              "      border-top-color: var(--fill-color);\n",
              "    }\n",
              "    60% {\n",
              "      border-color: transparent;\n",
              "      border-right-color: var(--fill-color);\n",
              "    }\n",
              "    80% {\n",
              "      border-color: transparent;\n",
              "      border-right-color: var(--fill-color);\n",
              "      border-bottom-color: var(--fill-color);\n",
              "    }\n",
              "    90% {\n",
              "      border-color: transparent;\n",
              "      border-bottom-color: var(--fill-color);\n",
              "    }\n",
              "  }\n",
              "</style>\n",
              "\n",
              "  <script>\n",
              "    async function quickchart(key) {\n",
              "      const quickchartButtonEl =\n",
              "        document.querySelector('#' + key + ' button');\n",
              "      quickchartButtonEl.disabled = true;  // To prevent multiple clicks.\n",
              "      quickchartButtonEl.classList.add('colab-df-spinner');\n",
              "      try {\n",
              "        const charts = await google.colab.kernel.invokeFunction(\n",
              "            'suggestCharts', [key], {});\n",
              "      } catch (error) {\n",
              "        console.error('Error during call to suggestCharts:', error);\n",
              "      }\n",
              "      quickchartButtonEl.classList.remove('colab-df-spinner');\n",
              "      quickchartButtonEl.classList.add('colab-df-quickchart-complete');\n",
              "    }\n",
              "    (() => {\n",
              "      let quickchartButtonEl =\n",
              "        document.querySelector('#df-f0e7eaae-0abd-42b0-a77f-04cc6841abfe button');\n",
              "      quickchartButtonEl.style.display =\n",
              "        google.colab.kernel.accessAllowed ? 'block' : 'none';\n",
              "    })();\n",
              "  </script>\n",
              "</div>\n",
              "    </div>\n",
              "  </div>\n"
            ],
            "application/vnd.google.colaboratory.intrinsic+json": {
              "type": "dataframe"
            }
          },
          "metadata": {}
        }
      ],
      "source": [
        "# посмотрим на первые 5 строк трейн данных\n",
        "display(train.head(5))"
      ]
    },
    {
      "cell_type": "code",
      "execution_count": 14,
      "metadata": {
        "colab": {
          "base_uri": "https://localhost:8080/",
          "height": 255
        },
        "id": "8menWfcef4gD",
        "outputId": "620797e8-780d-4bcd-c2ed-bc55b851f174"
      },
      "outputs": [
        {
          "output_type": "display_data",
          "data": {
            "text/plain": [
              "     Id  MSSubClass MSZoning  LotFrontage  LotArea Street Alley LotShape  \\\n",
              "0  1461          20       RH         80.0    11622   Pave   NaN      Reg   \n",
              "1  1462          20       RL         81.0    14267   Pave   NaN      IR1   \n",
              "2  1463          60       RL         74.0    13830   Pave   NaN      IR1   \n",
              "3  1464          60       RL         78.0     9978   Pave   NaN      IR1   \n",
              "4  1465         120       RL         43.0     5005   Pave   NaN      IR1   \n",
              "\n",
              "  LandContour Utilities  ... ScreenPorch PoolArea PoolQC  Fence MiscFeature  \\\n",
              "0         Lvl    AllPub  ...         120        0    NaN  MnPrv         NaN   \n",
              "1         Lvl    AllPub  ...           0        0    NaN    NaN        Gar2   \n",
              "2         Lvl    AllPub  ...           0        0    NaN  MnPrv         NaN   \n",
              "3         Lvl    AllPub  ...           0        0    NaN    NaN         NaN   \n",
              "4         HLS    AllPub  ...         144        0    NaN    NaN         NaN   \n",
              "\n",
              "  MiscVal MoSold  YrSold  SaleType  SaleCondition  \n",
              "0       0      6    2010        WD         Normal  \n",
              "1   12500      6    2010        WD         Normal  \n",
              "2       0      3    2010        WD         Normal  \n",
              "3       0      6    2010        WD         Normal  \n",
              "4       0      1    2010        WD         Normal  \n",
              "\n",
              "[5 rows x 80 columns]"
            ],
            "text/html": [
              "\n",
              "  <div id=\"df-c13de981-9623-446c-9212-d6294bc6c37d\" class=\"colab-df-container\">\n",
              "    <div>\n",
              "<style scoped>\n",
              "    .dataframe tbody tr th:only-of-type {\n",
              "        vertical-align: middle;\n",
              "    }\n",
              "\n",
              "    .dataframe tbody tr th {\n",
              "        vertical-align: top;\n",
              "    }\n",
              "\n",
              "    .dataframe thead th {\n",
              "        text-align: right;\n",
              "    }\n",
              "</style>\n",
              "<table border=\"1\" class=\"dataframe\">\n",
              "  <thead>\n",
              "    <tr style=\"text-align: right;\">\n",
              "      <th></th>\n",
              "      <th>Id</th>\n",
              "      <th>MSSubClass</th>\n",
              "      <th>MSZoning</th>\n",
              "      <th>LotFrontage</th>\n",
              "      <th>LotArea</th>\n",
              "      <th>Street</th>\n",
              "      <th>Alley</th>\n",
              "      <th>LotShape</th>\n",
              "      <th>LandContour</th>\n",
              "      <th>Utilities</th>\n",
              "      <th>...</th>\n",
              "      <th>ScreenPorch</th>\n",
              "      <th>PoolArea</th>\n",
              "      <th>PoolQC</th>\n",
              "      <th>Fence</th>\n",
              "      <th>MiscFeature</th>\n",
              "      <th>MiscVal</th>\n",
              "      <th>MoSold</th>\n",
              "      <th>YrSold</th>\n",
              "      <th>SaleType</th>\n",
              "      <th>SaleCondition</th>\n",
              "    </tr>\n",
              "  </thead>\n",
              "  <tbody>\n",
              "    <tr>\n",
              "      <th>0</th>\n",
              "      <td>1461</td>\n",
              "      <td>20</td>\n",
              "      <td>RH</td>\n",
              "      <td>80.0</td>\n",
              "      <td>11622</td>\n",
              "      <td>Pave</td>\n",
              "      <td>NaN</td>\n",
              "      <td>Reg</td>\n",
              "      <td>Lvl</td>\n",
              "      <td>AllPub</td>\n",
              "      <td>...</td>\n",
              "      <td>120</td>\n",
              "      <td>0</td>\n",
              "      <td>NaN</td>\n",
              "      <td>MnPrv</td>\n",
              "      <td>NaN</td>\n",
              "      <td>0</td>\n",
              "      <td>6</td>\n",
              "      <td>2010</td>\n",
              "      <td>WD</td>\n",
              "      <td>Normal</td>\n",
              "    </tr>\n",
              "    <tr>\n",
              "      <th>1</th>\n",
              "      <td>1462</td>\n",
              "      <td>20</td>\n",
              "      <td>RL</td>\n",
              "      <td>81.0</td>\n",
              "      <td>14267</td>\n",
              "      <td>Pave</td>\n",
              "      <td>NaN</td>\n",
              "      <td>IR1</td>\n",
              "      <td>Lvl</td>\n",
              "      <td>AllPub</td>\n",
              "      <td>...</td>\n",
              "      <td>0</td>\n",
              "      <td>0</td>\n",
              "      <td>NaN</td>\n",
              "      <td>NaN</td>\n",
              "      <td>Gar2</td>\n",
              "      <td>12500</td>\n",
              "      <td>6</td>\n",
              "      <td>2010</td>\n",
              "      <td>WD</td>\n",
              "      <td>Normal</td>\n",
              "    </tr>\n",
              "    <tr>\n",
              "      <th>2</th>\n",
              "      <td>1463</td>\n",
              "      <td>60</td>\n",
              "      <td>RL</td>\n",
              "      <td>74.0</td>\n",
              "      <td>13830</td>\n",
              "      <td>Pave</td>\n",
              "      <td>NaN</td>\n",
              "      <td>IR1</td>\n",
              "      <td>Lvl</td>\n",
              "      <td>AllPub</td>\n",
              "      <td>...</td>\n",
              "      <td>0</td>\n",
              "      <td>0</td>\n",
              "      <td>NaN</td>\n",
              "      <td>MnPrv</td>\n",
              "      <td>NaN</td>\n",
              "      <td>0</td>\n",
              "      <td>3</td>\n",
              "      <td>2010</td>\n",
              "      <td>WD</td>\n",
              "      <td>Normal</td>\n",
              "    </tr>\n",
              "    <tr>\n",
              "      <th>3</th>\n",
              "      <td>1464</td>\n",
              "      <td>60</td>\n",
              "      <td>RL</td>\n",
              "      <td>78.0</td>\n",
              "      <td>9978</td>\n",
              "      <td>Pave</td>\n",
              "      <td>NaN</td>\n",
              "      <td>IR1</td>\n",
              "      <td>Lvl</td>\n",
              "      <td>AllPub</td>\n",
              "      <td>...</td>\n",
              "      <td>0</td>\n",
              "      <td>0</td>\n",
              "      <td>NaN</td>\n",
              "      <td>NaN</td>\n",
              "      <td>NaN</td>\n",
              "      <td>0</td>\n",
              "      <td>6</td>\n",
              "      <td>2010</td>\n",
              "      <td>WD</td>\n",
              "      <td>Normal</td>\n",
              "    </tr>\n",
              "    <tr>\n",
              "      <th>4</th>\n",
              "      <td>1465</td>\n",
              "      <td>120</td>\n",
              "      <td>RL</td>\n",
              "      <td>43.0</td>\n",
              "      <td>5005</td>\n",
              "      <td>Pave</td>\n",
              "      <td>NaN</td>\n",
              "      <td>IR1</td>\n",
              "      <td>HLS</td>\n",
              "      <td>AllPub</td>\n",
              "      <td>...</td>\n",
              "      <td>144</td>\n",
              "      <td>0</td>\n",
              "      <td>NaN</td>\n",
              "      <td>NaN</td>\n",
              "      <td>NaN</td>\n",
              "      <td>0</td>\n",
              "      <td>1</td>\n",
              "      <td>2010</td>\n",
              "      <td>WD</td>\n",
              "      <td>Normal</td>\n",
              "    </tr>\n",
              "  </tbody>\n",
              "</table>\n",
              "<p>5 rows × 80 columns</p>\n",
              "</div>\n",
              "    <div class=\"colab-df-buttons\">\n",
              "\n",
              "  <div class=\"colab-df-container\">\n",
              "    <button class=\"colab-df-convert\" onclick=\"convertToInteractive('df-c13de981-9623-446c-9212-d6294bc6c37d')\"\n",
              "            title=\"Convert this dataframe to an interactive table.\"\n",
              "            style=\"display:none;\">\n",
              "\n",
              "  <svg xmlns=\"http://www.w3.org/2000/svg\" height=\"24px\" viewBox=\"0 -960 960 960\">\n",
              "    <path d=\"M120-120v-720h720v720H120Zm60-500h600v-160H180v160Zm220 220h160v-160H400v160Zm0 220h160v-160H400v160ZM180-400h160v-160H180v160Zm440 0h160v-160H620v160ZM180-180h160v-160H180v160Zm440 0h160v-160H620v160Z\"/>\n",
              "  </svg>\n",
              "    </button>\n",
              "\n",
              "  <style>\n",
              "    .colab-df-container {\n",
              "      display:flex;\n",
              "      gap: 12px;\n",
              "    }\n",
              "\n",
              "    .colab-df-convert {\n",
              "      background-color: #E8F0FE;\n",
              "      border: none;\n",
              "      border-radius: 50%;\n",
              "      cursor: pointer;\n",
              "      display: none;\n",
              "      fill: #1967D2;\n",
              "      height: 32px;\n",
              "      padding: 0 0 0 0;\n",
              "      width: 32px;\n",
              "    }\n",
              "\n",
              "    .colab-df-convert:hover {\n",
              "      background-color: #E2EBFA;\n",
              "      box-shadow: 0px 1px 2px rgba(60, 64, 67, 0.3), 0px 1px 3px 1px rgba(60, 64, 67, 0.15);\n",
              "      fill: #174EA6;\n",
              "    }\n",
              "\n",
              "    .colab-df-buttons div {\n",
              "      margin-bottom: 4px;\n",
              "    }\n",
              "\n",
              "    [theme=dark] .colab-df-convert {\n",
              "      background-color: #3B4455;\n",
              "      fill: #D2E3FC;\n",
              "    }\n",
              "\n",
              "    [theme=dark] .colab-df-convert:hover {\n",
              "      background-color: #434B5C;\n",
              "      box-shadow: 0px 1px 3px 1px rgba(0, 0, 0, 0.15);\n",
              "      filter: drop-shadow(0px 1px 2px rgba(0, 0, 0, 0.3));\n",
              "      fill: #FFFFFF;\n",
              "    }\n",
              "  </style>\n",
              "\n",
              "    <script>\n",
              "      const buttonEl =\n",
              "        document.querySelector('#df-c13de981-9623-446c-9212-d6294bc6c37d button.colab-df-convert');\n",
              "      buttonEl.style.display =\n",
              "        google.colab.kernel.accessAllowed ? 'block' : 'none';\n",
              "\n",
              "      async function convertToInteractive(key) {\n",
              "        const element = document.querySelector('#df-c13de981-9623-446c-9212-d6294bc6c37d');\n",
              "        const dataTable =\n",
              "          await google.colab.kernel.invokeFunction('convertToInteractive',\n",
              "                                                    [key], {});\n",
              "        if (!dataTable) return;\n",
              "\n",
              "        const docLinkHtml = 'Like what you see? Visit the ' +\n",
              "          '<a target=\"_blank\" href=https://colab.research.google.com/notebooks/data_table.ipynb>data table notebook</a>'\n",
              "          + ' to learn more about interactive tables.';\n",
              "        element.innerHTML = '';\n",
              "        dataTable['output_type'] = 'display_data';\n",
              "        await google.colab.output.renderOutput(dataTable, element);\n",
              "        const docLink = document.createElement('div');\n",
              "        docLink.innerHTML = docLinkHtml;\n",
              "        element.appendChild(docLink);\n",
              "      }\n",
              "    </script>\n",
              "  </div>\n",
              "\n",
              "\n",
              "<div id=\"df-279fed62-8cde-464e-b96d-ec06b67cb21a\">\n",
              "  <button class=\"colab-df-quickchart\" onclick=\"quickchart('df-279fed62-8cde-464e-b96d-ec06b67cb21a')\"\n",
              "            title=\"Suggest charts\"\n",
              "            style=\"display:none;\">\n",
              "\n",
              "<svg xmlns=\"http://www.w3.org/2000/svg\" height=\"24px\"viewBox=\"0 0 24 24\"\n",
              "     width=\"24px\">\n",
              "    <g>\n",
              "        <path d=\"M19 3H5c-1.1 0-2 .9-2 2v14c0 1.1.9 2 2 2h14c1.1 0 2-.9 2-2V5c0-1.1-.9-2-2-2zM9 17H7v-7h2v7zm4 0h-2V7h2v10zm4 0h-2v-4h2v4z\"/>\n",
              "    </g>\n",
              "</svg>\n",
              "  </button>\n",
              "\n",
              "<style>\n",
              "  .colab-df-quickchart {\n",
              "      --bg-color: #E8F0FE;\n",
              "      --fill-color: #1967D2;\n",
              "      --hover-bg-color: #E2EBFA;\n",
              "      --hover-fill-color: #174EA6;\n",
              "      --disabled-fill-color: #AAA;\n",
              "      --disabled-bg-color: #DDD;\n",
              "  }\n",
              "\n",
              "  [theme=dark] .colab-df-quickchart {\n",
              "      --bg-color: #3B4455;\n",
              "      --fill-color: #D2E3FC;\n",
              "      --hover-bg-color: #434B5C;\n",
              "      --hover-fill-color: #FFFFFF;\n",
              "      --disabled-bg-color: #3B4455;\n",
              "      --disabled-fill-color: #666;\n",
              "  }\n",
              "\n",
              "  .colab-df-quickchart {\n",
              "    background-color: var(--bg-color);\n",
              "    border: none;\n",
              "    border-radius: 50%;\n",
              "    cursor: pointer;\n",
              "    display: none;\n",
              "    fill: var(--fill-color);\n",
              "    height: 32px;\n",
              "    padding: 0;\n",
              "    width: 32px;\n",
              "  }\n",
              "\n",
              "  .colab-df-quickchart:hover {\n",
              "    background-color: var(--hover-bg-color);\n",
              "    box-shadow: 0 1px 2px rgba(60, 64, 67, 0.3), 0 1px 3px 1px rgba(60, 64, 67, 0.15);\n",
              "    fill: var(--button-hover-fill-color);\n",
              "  }\n",
              "\n",
              "  .colab-df-quickchart-complete:disabled,\n",
              "  .colab-df-quickchart-complete:disabled:hover {\n",
              "    background-color: var(--disabled-bg-color);\n",
              "    fill: var(--disabled-fill-color);\n",
              "    box-shadow: none;\n",
              "  }\n",
              "\n",
              "  .colab-df-spinner {\n",
              "    border: 2px solid var(--fill-color);\n",
              "    border-color: transparent;\n",
              "    border-bottom-color: var(--fill-color);\n",
              "    animation:\n",
              "      spin 1s steps(1) infinite;\n",
              "  }\n",
              "\n",
              "  @keyframes spin {\n",
              "    0% {\n",
              "      border-color: transparent;\n",
              "      border-bottom-color: var(--fill-color);\n",
              "      border-left-color: var(--fill-color);\n",
              "    }\n",
              "    20% {\n",
              "      border-color: transparent;\n",
              "      border-left-color: var(--fill-color);\n",
              "      border-top-color: var(--fill-color);\n",
              "    }\n",
              "    30% {\n",
              "      border-color: transparent;\n",
              "      border-left-color: var(--fill-color);\n",
              "      border-top-color: var(--fill-color);\n",
              "      border-right-color: var(--fill-color);\n",
              "    }\n",
              "    40% {\n",
              "      border-color: transparent;\n",
              "      border-right-color: var(--fill-color);\n",
              "      border-top-color: var(--fill-color);\n",
              "    }\n",
              "    60% {\n",
              "      border-color: transparent;\n",
              "      border-right-color: var(--fill-color);\n",
              "    }\n",
              "    80% {\n",
              "      border-color: transparent;\n",
              "      border-right-color: var(--fill-color);\n",
              "      border-bottom-color: var(--fill-color);\n",
              "    }\n",
              "    90% {\n",
              "      border-color: transparent;\n",
              "      border-bottom-color: var(--fill-color);\n",
              "    }\n",
              "  }\n",
              "</style>\n",
              "\n",
              "  <script>\n",
              "    async function quickchart(key) {\n",
              "      const quickchartButtonEl =\n",
              "        document.querySelector('#' + key + ' button');\n",
              "      quickchartButtonEl.disabled = true;  // To prevent multiple clicks.\n",
              "      quickchartButtonEl.classList.add('colab-df-spinner');\n",
              "      try {\n",
              "        const charts = await google.colab.kernel.invokeFunction(\n",
              "            'suggestCharts', [key], {});\n",
              "      } catch (error) {\n",
              "        console.error('Error during call to suggestCharts:', error);\n",
              "      }\n",
              "      quickchartButtonEl.classList.remove('colab-df-spinner');\n",
              "      quickchartButtonEl.classList.add('colab-df-quickchart-complete');\n",
              "    }\n",
              "    (() => {\n",
              "      let quickchartButtonEl =\n",
              "        document.querySelector('#df-279fed62-8cde-464e-b96d-ec06b67cb21a button');\n",
              "      quickchartButtonEl.style.display =\n",
              "        google.colab.kernel.accessAllowed ? 'block' : 'none';\n",
              "    })();\n",
              "  </script>\n",
              "</div>\n",
              "    </div>\n",
              "  </div>\n"
            ],
            "application/vnd.google.colaboratory.intrinsic+json": {
              "type": "dataframe"
            }
          },
          "metadata": {}
        }
      ],
      "source": [
        "# посмотрим на первые 5 строк тест данных\n",
        "display(test.head(5))"
      ]
    },
    {
      "cell_type": "markdown",
      "source": [
        "Уже видим проблемы, наблюдается много пропусков в некоторых столбцах."
      ],
      "metadata": {
        "id": "WWXBja3YOfvk"
      }
    },
    {
      "cell_type": "code",
      "execution_count": 15,
      "metadata": {
        "colab": {
          "base_uri": "https://localhost:8080/"
        },
        "id": "gjQ2WppRVTmm",
        "outputId": "2345dc6a-bf4d-4d7b-8ed3-68b9b53b64ea"
      },
      "outputs": [
        {
          "output_type": "stream",
          "name": "stdout",
          "text": [
            "В тренировочном датасете: 1460 строк\n",
            "\n",
            " В датасете 81 столбцов, из них :\n",
            "object     43\n",
            "int64      35\n",
            "float64     3\n",
            "Name: count, dtype: int64\n"
          ]
        }
      ],
      "source": [
        "# Размер датасета\n",
        "print(f\"В тренировочном датасете: {train.shape[0]} строк\")\n",
        "\n",
        "# Information about columns and data types\n",
        "print(f\"\\n В датасете {train.shape[1]} столбцов, из них :\")\n",
        "print(train.dtypes.value_counts())"
      ]
    },
    {
      "cell_type": "code",
      "execution_count": 16,
      "metadata": {
        "colab": {
          "base_uri": "https://localhost:8080/"
        },
        "id": "ngIBbndPfUbb",
        "outputId": "effffac7-fe38-48c4-c8a5-956cf95f5f23"
      },
      "outputs": [
        {
          "output_type": "stream",
          "name": "stdout",
          "text": [
            "В тестовом датасете: 1459 строк\n",
            "\n",
            " В датасете 80 столбцов, из них :\n",
            "object     43\n",
            "int64      26\n",
            "float64    11\n",
            "Name: count, dtype: int64\n"
          ]
        }
      ],
      "source": [
        "# Размер датасета\n",
        "print(f\"В тестовом датасете: {test.shape[0]} строк\")\n",
        "\n",
        "# Information about columns and data types\n",
        "print(f\"\\n В датасете {test.shape[1]} столбцов, из них :\")\n",
        "print(test.dtypes.value_counts())"
      ]
    },
    {
      "cell_type": "markdown",
      "source": [
        "Метод dataframe.info - это быстрый способ оценить данные, отобразив типы данных в каждом столбце и количество не пропущенных значе"
      ],
      "metadata": {
        "id": "MQi2dci__Hdr"
      }
    },
    {
      "cell_type": "code",
      "execution_count": 17,
      "metadata": {
        "colab": {
          "base_uri": "https://localhost:8080/"
        },
        "id": "UEDgUNhIgUEO",
        "outputId": "42831acc-7f14-487b-e39f-faf41776ef76"
      },
      "outputs": [
        {
          "output_type": "stream",
          "name": "stdout",
          "text": [
            "<class 'pandas.core.frame.DataFrame'>\n",
            "RangeIndex: 1460 entries, 0 to 1459\n",
            "Data columns (total 81 columns):\n",
            " #   Column         Non-Null Count  Dtype  \n",
            "---  ------         --------------  -----  \n",
            " 0   Id             1460 non-null   int64  \n",
            " 1   MSSubClass     1460 non-null   int64  \n",
            " 2   MSZoning       1460 non-null   object \n",
            " 3   LotFrontage    1201 non-null   float64\n",
            " 4   LotArea        1460 non-null   int64  \n",
            " 5   Street         1460 non-null   object \n",
            " 6   Alley          91 non-null     object \n",
            " 7   LotShape       1460 non-null   object \n",
            " 8   LandContour    1460 non-null   object \n",
            " 9   Utilities      1460 non-null   object \n",
            " 10  LotConfig      1460 non-null   object \n",
            " 11  LandSlope      1460 non-null   object \n",
            " 12  Neighborhood   1460 non-null   object \n",
            " 13  Condition1     1460 non-null   object \n",
            " 14  Condition2     1460 non-null   object \n",
            " 15  BldgType       1460 non-null   object \n",
            " 16  HouseStyle     1460 non-null   object \n",
            " 17  OverallQual    1460 non-null   int64  \n",
            " 18  OverallCond    1460 non-null   int64  \n",
            " 19  YearBuilt      1460 non-null   int64  \n",
            " 20  YearRemodAdd   1460 non-null   int64  \n",
            " 21  RoofStyle      1460 non-null   object \n",
            " 22  RoofMatl       1460 non-null   object \n",
            " 23  Exterior1st    1460 non-null   object \n",
            " 24  Exterior2nd    1460 non-null   object \n",
            " 25  MasVnrType     588 non-null    object \n",
            " 26  MasVnrArea     1452 non-null   float64\n",
            " 27  ExterQual      1460 non-null   object \n",
            " 28  ExterCond      1460 non-null   object \n",
            " 29  Foundation     1460 non-null   object \n",
            " 30  BsmtQual       1423 non-null   object \n",
            " 31  BsmtCond       1423 non-null   object \n",
            " 32  BsmtExposure   1422 non-null   object \n",
            " 33  BsmtFinType1   1423 non-null   object \n",
            " 34  BsmtFinSF1     1460 non-null   int64  \n",
            " 35  BsmtFinType2   1422 non-null   object \n",
            " 36  BsmtFinSF2     1460 non-null   int64  \n",
            " 37  BsmtUnfSF      1460 non-null   int64  \n",
            " 38  TotalBsmtSF    1460 non-null   int64  \n",
            " 39  Heating        1460 non-null   object \n",
            " 40  HeatingQC      1460 non-null   object \n",
            " 41  CentralAir     1460 non-null   object \n",
            " 42  Electrical     1459 non-null   object \n",
            " 43  1stFlrSF       1460 non-null   int64  \n",
            " 44  2ndFlrSF       1460 non-null   int64  \n",
            " 45  LowQualFinSF   1460 non-null   int64  \n",
            " 46  GrLivArea      1460 non-null   int64  \n",
            " 47  BsmtFullBath   1460 non-null   int64  \n",
            " 48  BsmtHalfBath   1460 non-null   int64  \n",
            " 49  FullBath       1460 non-null   int64  \n",
            " 50  HalfBath       1460 non-null   int64  \n",
            " 51  BedroomAbvGr   1460 non-null   int64  \n",
            " 52  KitchenAbvGr   1460 non-null   int64  \n",
            " 53  KitchenQual    1460 non-null   object \n",
            " 54  TotRmsAbvGrd   1460 non-null   int64  \n",
            " 55  Functional     1460 non-null   object \n",
            " 56  Fireplaces     1460 non-null   int64  \n",
            " 57  FireplaceQu    770 non-null    object \n",
            " 58  GarageType     1379 non-null   object \n",
            " 59  GarageYrBlt    1379 non-null   float64\n",
            " 60  GarageFinish   1379 non-null   object \n",
            " 61  GarageCars     1460 non-null   int64  \n",
            " 62  GarageArea     1460 non-null   int64  \n",
            " 63  GarageQual     1379 non-null   object \n",
            " 64  GarageCond     1379 non-null   object \n",
            " 65  PavedDrive     1460 non-null   object \n",
            " 66  WoodDeckSF     1460 non-null   int64  \n",
            " 67  OpenPorchSF    1460 non-null   int64  \n",
            " 68  EnclosedPorch  1460 non-null   int64  \n",
            " 69  3SsnPorch      1460 non-null   int64  \n",
            " 70  ScreenPorch    1460 non-null   int64  \n",
            " 71  PoolArea       1460 non-null   int64  \n",
            " 72  PoolQC         7 non-null      object \n",
            " 73  Fence          281 non-null    object \n",
            " 74  MiscFeature    54 non-null     object \n",
            " 75  MiscVal        1460 non-null   int64  \n",
            " 76  MoSold         1460 non-null   int64  \n",
            " 77  YrSold         1460 non-null   int64  \n",
            " 78  SaleType       1460 non-null   object \n",
            " 79  SaleCondition  1460 non-null   object \n",
            " 80  SalePrice      1460 non-null   int64  \n",
            "dtypes: float64(3), int64(35), object(43)\n",
            "memory usage: 924.0+ KB\n"
          ]
        }
      ],
      "source": [
        "train.info()"
      ]
    },
    {
      "cell_type": "code",
      "execution_count": 18,
      "metadata": {
        "colab": {
          "base_uri": "https://localhost:8080/"
        },
        "id": "0y7BsO5_ggYW",
        "outputId": "232e851d-aa69-450a-a1d9-f596b5d2260d"
      },
      "outputs": [
        {
          "output_type": "stream",
          "name": "stdout",
          "text": [
            "<class 'pandas.core.frame.DataFrame'>\n",
            "RangeIndex: 1459 entries, 0 to 1458\n",
            "Data columns (total 80 columns):\n",
            " #   Column         Non-Null Count  Dtype  \n",
            "---  ------         --------------  -----  \n",
            " 0   Id             1459 non-null   int64  \n",
            " 1   MSSubClass     1459 non-null   int64  \n",
            " 2   MSZoning       1455 non-null   object \n",
            " 3   LotFrontage    1232 non-null   float64\n",
            " 4   LotArea        1459 non-null   int64  \n",
            " 5   Street         1459 non-null   object \n",
            " 6   Alley          107 non-null    object \n",
            " 7   LotShape       1459 non-null   object \n",
            " 8   LandContour    1459 non-null   object \n",
            " 9   Utilities      1457 non-null   object \n",
            " 10  LotConfig      1459 non-null   object \n",
            " 11  LandSlope      1459 non-null   object \n",
            " 12  Neighborhood   1459 non-null   object \n",
            " 13  Condition1     1459 non-null   object \n",
            " 14  Condition2     1459 non-null   object \n",
            " 15  BldgType       1459 non-null   object \n",
            " 16  HouseStyle     1459 non-null   object \n",
            " 17  OverallQual    1459 non-null   int64  \n",
            " 18  OverallCond    1459 non-null   int64  \n",
            " 19  YearBuilt      1459 non-null   int64  \n",
            " 20  YearRemodAdd   1459 non-null   int64  \n",
            " 21  RoofStyle      1459 non-null   object \n",
            " 22  RoofMatl       1459 non-null   object \n",
            " 23  Exterior1st    1458 non-null   object \n",
            " 24  Exterior2nd    1458 non-null   object \n",
            " 25  MasVnrType     565 non-null    object \n",
            " 26  MasVnrArea     1444 non-null   float64\n",
            " 27  ExterQual      1459 non-null   object \n",
            " 28  ExterCond      1459 non-null   object \n",
            " 29  Foundation     1459 non-null   object \n",
            " 30  BsmtQual       1415 non-null   object \n",
            " 31  BsmtCond       1414 non-null   object \n",
            " 32  BsmtExposure   1415 non-null   object \n",
            " 33  BsmtFinType1   1417 non-null   object \n",
            " 34  BsmtFinSF1     1458 non-null   float64\n",
            " 35  BsmtFinType2   1417 non-null   object \n",
            " 36  BsmtFinSF2     1458 non-null   float64\n",
            " 37  BsmtUnfSF      1458 non-null   float64\n",
            " 38  TotalBsmtSF    1458 non-null   float64\n",
            " 39  Heating        1459 non-null   object \n",
            " 40  HeatingQC      1459 non-null   object \n",
            " 41  CentralAir     1459 non-null   object \n",
            " 42  Electrical     1459 non-null   object \n",
            " 43  1stFlrSF       1459 non-null   int64  \n",
            " 44  2ndFlrSF       1459 non-null   int64  \n",
            " 45  LowQualFinSF   1459 non-null   int64  \n",
            " 46  GrLivArea      1459 non-null   int64  \n",
            " 47  BsmtFullBath   1457 non-null   float64\n",
            " 48  BsmtHalfBath   1457 non-null   float64\n",
            " 49  FullBath       1459 non-null   int64  \n",
            " 50  HalfBath       1459 non-null   int64  \n",
            " 51  BedroomAbvGr   1459 non-null   int64  \n",
            " 52  KitchenAbvGr   1459 non-null   int64  \n",
            " 53  KitchenQual    1458 non-null   object \n",
            " 54  TotRmsAbvGrd   1459 non-null   int64  \n",
            " 55  Functional     1457 non-null   object \n",
            " 56  Fireplaces     1459 non-null   int64  \n",
            " 57  FireplaceQu    729 non-null    object \n",
            " 58  GarageType     1383 non-null   object \n",
            " 59  GarageYrBlt    1381 non-null   float64\n",
            " 60  GarageFinish   1381 non-null   object \n",
            " 61  GarageCars     1458 non-null   float64\n",
            " 62  GarageArea     1458 non-null   float64\n",
            " 63  GarageQual     1381 non-null   object \n",
            " 64  GarageCond     1381 non-null   object \n",
            " 65  PavedDrive     1459 non-null   object \n",
            " 66  WoodDeckSF     1459 non-null   int64  \n",
            " 67  OpenPorchSF    1459 non-null   int64  \n",
            " 68  EnclosedPorch  1459 non-null   int64  \n",
            " 69  3SsnPorch      1459 non-null   int64  \n",
            " 70  ScreenPorch    1459 non-null   int64  \n",
            " 71  PoolArea       1459 non-null   int64  \n",
            " 72  PoolQC         3 non-null      object \n",
            " 73  Fence          290 non-null    object \n",
            " 74  MiscFeature    51 non-null     object \n",
            " 75  MiscVal        1459 non-null   int64  \n",
            " 76  MoSold         1459 non-null   int64  \n",
            " 77  YrSold         1459 non-null   int64  \n",
            " 78  SaleType       1458 non-null   object \n",
            " 79  SaleCondition  1459 non-null   object \n",
            "dtypes: float64(11), int64(26), object(43)\n",
            "memory usage: 912.0+ KB\n"
          ]
        }
      ],
      "source": [
        "test.info()"
      ]
    },
    {
      "cell_type": "markdown",
      "source": [
        "Нужно проследить чтобы данные числового формата не имели тип строка, при необходимости корректируем тип данных."
      ],
      "metadata": {
        "id": "78HuYbPVCra6"
      }
    },
    {
      "cell_type": "markdown",
      "metadata": {
        "id": "bO6-pKRLkShC"
      },
      "source": [
        "**Вывод:**\n",
        "\n",
        "я импортировала нужные библиотеки, прочла данные, ознакомилась с ними. Предстоит работа с двумя датасетами - тренировочном и тестовом данными"
      ]
    },
    {
      "cell_type": "markdown",
      "source": [],
      "metadata": {
        "id": "Ut7MzdxqOxiY"
      }
    },
    {
      "cell_type": "markdown",
      "source": [
        "### таблица пропусков"
      ],
      "metadata": {
        "id": "tGDPwwVjt0Bv"
      }
    },
    {
      "cell_type": "markdown",
      "source": [
        "Теперь, когда у нас есть правильные типы данных столбцов, мы можем начать анализ, посмотрев на процент пропущенных значений в каждом столбце.  для методов машинного обучения их придется заполнить.\n"
      ],
      "metadata": {
        "id": "BD6c_tfdDGq_"
      }
    },
    {
      "cell_type": "code",
      "source": [
        "missing_values_table(train)"
      ],
      "metadata": {
        "colab": {
          "base_uri": "https://localhost:8080/",
          "height": 681
        },
        "id": "bWSTwSQKt4D0",
        "outputId": "68e67a63-fea8-4e44-9526-cdd139157221"
      },
      "execution_count": 19,
      "outputs": [
        {
          "output_type": "stream",
          "name": "stdout",
          "text": [
            "Your selected dataframe has 81 columns.\n",
            "There are 19 columns that have missing values.\n"
          ]
        },
        {
          "output_type": "execute_result",
          "data": {
            "text/plain": [
              "              Missing Values  % of Total Values\n",
              "PoolQC                  1453               99.5\n",
              "MiscFeature             1406               96.3\n",
              "Alley                   1369               93.8\n",
              "Fence                   1179               80.8\n",
              "MasVnrType               872               59.7\n",
              "FireplaceQu              690               47.3\n",
              "LotFrontage              259               17.7\n",
              "GarageType                81                5.5\n",
              "GarageYrBlt               81                5.5\n",
              "GarageFinish              81                5.5\n",
              "GarageQual                81                5.5\n",
              "GarageCond                81                5.5\n",
              "BsmtFinType2              38                2.6\n",
              "BsmtExposure              38                2.6\n",
              "BsmtFinType1              37                2.5\n",
              "BsmtCond                  37                2.5\n",
              "BsmtQual                  37                2.5\n",
              "MasVnrArea                 8                0.5\n",
              "Electrical                 1                0.1"
            ],
            "text/html": [
              "\n",
              "  <div id=\"df-96248b9e-1772-4ac9-b67f-6eb38e272b68\" class=\"colab-df-container\">\n",
              "    <div>\n",
              "<style scoped>\n",
              "    .dataframe tbody tr th:only-of-type {\n",
              "        vertical-align: middle;\n",
              "    }\n",
              "\n",
              "    .dataframe tbody tr th {\n",
              "        vertical-align: top;\n",
              "    }\n",
              "\n",
              "    .dataframe thead th {\n",
              "        text-align: right;\n",
              "    }\n",
              "</style>\n",
              "<table border=\"1\" class=\"dataframe\">\n",
              "  <thead>\n",
              "    <tr style=\"text-align: right;\">\n",
              "      <th></th>\n",
              "      <th>Missing Values</th>\n",
              "      <th>% of Total Values</th>\n",
              "    </tr>\n",
              "  </thead>\n",
              "  <tbody>\n",
              "    <tr>\n",
              "      <th>PoolQC</th>\n",
              "      <td>1453</td>\n",
              "      <td>99.5</td>\n",
              "    </tr>\n",
              "    <tr>\n",
              "      <th>MiscFeature</th>\n",
              "      <td>1406</td>\n",
              "      <td>96.3</td>\n",
              "    </tr>\n",
              "    <tr>\n",
              "      <th>Alley</th>\n",
              "      <td>1369</td>\n",
              "      <td>93.8</td>\n",
              "    </tr>\n",
              "    <tr>\n",
              "      <th>Fence</th>\n",
              "      <td>1179</td>\n",
              "      <td>80.8</td>\n",
              "    </tr>\n",
              "    <tr>\n",
              "      <th>MasVnrType</th>\n",
              "      <td>872</td>\n",
              "      <td>59.7</td>\n",
              "    </tr>\n",
              "    <tr>\n",
              "      <th>FireplaceQu</th>\n",
              "      <td>690</td>\n",
              "      <td>47.3</td>\n",
              "    </tr>\n",
              "    <tr>\n",
              "      <th>LotFrontage</th>\n",
              "      <td>259</td>\n",
              "      <td>17.7</td>\n",
              "    </tr>\n",
              "    <tr>\n",
              "      <th>GarageType</th>\n",
              "      <td>81</td>\n",
              "      <td>5.5</td>\n",
              "    </tr>\n",
              "    <tr>\n",
              "      <th>GarageYrBlt</th>\n",
              "      <td>81</td>\n",
              "      <td>5.5</td>\n",
              "    </tr>\n",
              "    <tr>\n",
              "      <th>GarageFinish</th>\n",
              "      <td>81</td>\n",
              "      <td>5.5</td>\n",
              "    </tr>\n",
              "    <tr>\n",
              "      <th>GarageQual</th>\n",
              "      <td>81</td>\n",
              "      <td>5.5</td>\n",
              "    </tr>\n",
              "    <tr>\n",
              "      <th>GarageCond</th>\n",
              "      <td>81</td>\n",
              "      <td>5.5</td>\n",
              "    </tr>\n",
              "    <tr>\n",
              "      <th>BsmtFinType2</th>\n",
              "      <td>38</td>\n",
              "      <td>2.6</td>\n",
              "    </tr>\n",
              "    <tr>\n",
              "      <th>BsmtExposure</th>\n",
              "      <td>38</td>\n",
              "      <td>2.6</td>\n",
              "    </tr>\n",
              "    <tr>\n",
              "      <th>BsmtFinType1</th>\n",
              "      <td>37</td>\n",
              "      <td>2.5</td>\n",
              "    </tr>\n",
              "    <tr>\n",
              "      <th>BsmtCond</th>\n",
              "      <td>37</td>\n",
              "      <td>2.5</td>\n",
              "    </tr>\n",
              "    <tr>\n",
              "      <th>BsmtQual</th>\n",
              "      <td>37</td>\n",
              "      <td>2.5</td>\n",
              "    </tr>\n",
              "    <tr>\n",
              "      <th>MasVnrArea</th>\n",
              "      <td>8</td>\n",
              "      <td>0.5</td>\n",
              "    </tr>\n",
              "    <tr>\n",
              "      <th>Electrical</th>\n",
              "      <td>1</td>\n",
              "      <td>0.1</td>\n",
              "    </tr>\n",
              "  </tbody>\n",
              "</table>\n",
              "</div>\n",
              "    <div class=\"colab-df-buttons\">\n",
              "\n",
              "  <div class=\"colab-df-container\">\n",
              "    <button class=\"colab-df-convert\" onclick=\"convertToInteractive('df-96248b9e-1772-4ac9-b67f-6eb38e272b68')\"\n",
              "            title=\"Convert this dataframe to an interactive table.\"\n",
              "            style=\"display:none;\">\n",
              "\n",
              "  <svg xmlns=\"http://www.w3.org/2000/svg\" height=\"24px\" viewBox=\"0 -960 960 960\">\n",
              "    <path d=\"M120-120v-720h720v720H120Zm60-500h600v-160H180v160Zm220 220h160v-160H400v160Zm0 220h160v-160H400v160ZM180-400h160v-160H180v160Zm440 0h160v-160H620v160ZM180-180h160v-160H180v160Zm440 0h160v-160H620v160Z\"/>\n",
              "  </svg>\n",
              "    </button>\n",
              "\n",
              "  <style>\n",
              "    .colab-df-container {\n",
              "      display:flex;\n",
              "      gap: 12px;\n",
              "    }\n",
              "\n",
              "    .colab-df-convert {\n",
              "      background-color: #E8F0FE;\n",
              "      border: none;\n",
              "      border-radius: 50%;\n",
              "      cursor: pointer;\n",
              "      display: none;\n",
              "      fill: #1967D2;\n",
              "      height: 32px;\n",
              "      padding: 0 0 0 0;\n",
              "      width: 32px;\n",
              "    }\n",
              "\n",
              "    .colab-df-convert:hover {\n",
              "      background-color: #E2EBFA;\n",
              "      box-shadow: 0px 1px 2px rgba(60, 64, 67, 0.3), 0px 1px 3px 1px rgba(60, 64, 67, 0.15);\n",
              "      fill: #174EA6;\n",
              "    }\n",
              "\n",
              "    .colab-df-buttons div {\n",
              "      margin-bottom: 4px;\n",
              "    }\n",
              "\n",
              "    [theme=dark] .colab-df-convert {\n",
              "      background-color: #3B4455;\n",
              "      fill: #D2E3FC;\n",
              "    }\n",
              "\n",
              "    [theme=dark] .colab-df-convert:hover {\n",
              "      background-color: #434B5C;\n",
              "      box-shadow: 0px 1px 3px 1px rgba(0, 0, 0, 0.15);\n",
              "      filter: drop-shadow(0px 1px 2px rgba(0, 0, 0, 0.3));\n",
              "      fill: #FFFFFF;\n",
              "    }\n",
              "  </style>\n",
              "\n",
              "    <script>\n",
              "      const buttonEl =\n",
              "        document.querySelector('#df-96248b9e-1772-4ac9-b67f-6eb38e272b68 button.colab-df-convert');\n",
              "      buttonEl.style.display =\n",
              "        google.colab.kernel.accessAllowed ? 'block' : 'none';\n",
              "\n",
              "      async function convertToInteractive(key) {\n",
              "        const element = document.querySelector('#df-96248b9e-1772-4ac9-b67f-6eb38e272b68');\n",
              "        const dataTable =\n",
              "          await google.colab.kernel.invokeFunction('convertToInteractive',\n",
              "                                                    [key], {});\n",
              "        if (!dataTable) return;\n",
              "\n",
              "        const docLinkHtml = 'Like what you see? Visit the ' +\n",
              "          '<a target=\"_blank\" href=https://colab.research.google.com/notebooks/data_table.ipynb>data table notebook</a>'\n",
              "          + ' to learn more about interactive tables.';\n",
              "        element.innerHTML = '';\n",
              "        dataTable['output_type'] = 'display_data';\n",
              "        await google.colab.output.renderOutput(dataTable, element);\n",
              "        const docLink = document.createElement('div');\n",
              "        docLink.innerHTML = docLinkHtml;\n",
              "        element.appendChild(docLink);\n",
              "      }\n",
              "    </script>\n",
              "  </div>\n",
              "\n",
              "\n",
              "<div id=\"df-3300243d-fc3a-4300-a9f9-b786dfc80cc8\">\n",
              "  <button class=\"colab-df-quickchart\" onclick=\"quickchart('df-3300243d-fc3a-4300-a9f9-b786dfc80cc8')\"\n",
              "            title=\"Suggest charts\"\n",
              "            style=\"display:none;\">\n",
              "\n",
              "<svg xmlns=\"http://www.w3.org/2000/svg\" height=\"24px\"viewBox=\"0 0 24 24\"\n",
              "     width=\"24px\">\n",
              "    <g>\n",
              "        <path d=\"M19 3H5c-1.1 0-2 .9-2 2v14c0 1.1.9 2 2 2h14c1.1 0 2-.9 2-2V5c0-1.1-.9-2-2-2zM9 17H7v-7h2v7zm4 0h-2V7h2v10zm4 0h-2v-4h2v4z\"/>\n",
              "    </g>\n",
              "</svg>\n",
              "  </button>\n",
              "\n",
              "<style>\n",
              "  .colab-df-quickchart {\n",
              "      --bg-color: #E8F0FE;\n",
              "      --fill-color: #1967D2;\n",
              "      --hover-bg-color: #E2EBFA;\n",
              "      --hover-fill-color: #174EA6;\n",
              "      --disabled-fill-color: #AAA;\n",
              "      --disabled-bg-color: #DDD;\n",
              "  }\n",
              "\n",
              "  [theme=dark] .colab-df-quickchart {\n",
              "      --bg-color: #3B4455;\n",
              "      --fill-color: #D2E3FC;\n",
              "      --hover-bg-color: #434B5C;\n",
              "      --hover-fill-color: #FFFFFF;\n",
              "      --disabled-bg-color: #3B4455;\n",
              "      --disabled-fill-color: #666;\n",
              "  }\n",
              "\n",
              "  .colab-df-quickchart {\n",
              "    background-color: var(--bg-color);\n",
              "    border: none;\n",
              "    border-radius: 50%;\n",
              "    cursor: pointer;\n",
              "    display: none;\n",
              "    fill: var(--fill-color);\n",
              "    height: 32px;\n",
              "    padding: 0;\n",
              "    width: 32px;\n",
              "  }\n",
              "\n",
              "  .colab-df-quickchart:hover {\n",
              "    background-color: var(--hover-bg-color);\n",
              "    box-shadow: 0 1px 2px rgba(60, 64, 67, 0.3), 0 1px 3px 1px rgba(60, 64, 67, 0.15);\n",
              "    fill: var(--button-hover-fill-color);\n",
              "  }\n",
              "\n",
              "  .colab-df-quickchart-complete:disabled,\n",
              "  .colab-df-quickchart-complete:disabled:hover {\n",
              "    background-color: var(--disabled-bg-color);\n",
              "    fill: var(--disabled-fill-color);\n",
              "    box-shadow: none;\n",
              "  }\n",
              "\n",
              "  .colab-df-spinner {\n",
              "    border: 2px solid var(--fill-color);\n",
              "    border-color: transparent;\n",
              "    border-bottom-color: var(--fill-color);\n",
              "    animation:\n",
              "      spin 1s steps(1) infinite;\n",
              "  }\n",
              "\n",
              "  @keyframes spin {\n",
              "    0% {\n",
              "      border-color: transparent;\n",
              "      border-bottom-color: var(--fill-color);\n",
              "      border-left-color: var(--fill-color);\n",
              "    }\n",
              "    20% {\n",
              "      border-color: transparent;\n",
              "      border-left-color: var(--fill-color);\n",
              "      border-top-color: var(--fill-color);\n",
              "    }\n",
              "    30% {\n",
              "      border-color: transparent;\n",
              "      border-left-color: var(--fill-color);\n",
              "      border-top-color: var(--fill-color);\n",
              "      border-right-color: var(--fill-color);\n",
              "    }\n",
              "    40% {\n",
              "      border-color: transparent;\n",
              "      border-right-color: var(--fill-color);\n",
              "      border-top-color: var(--fill-color);\n",
              "    }\n",
              "    60% {\n",
              "      border-color: transparent;\n",
              "      border-right-color: var(--fill-color);\n",
              "    }\n",
              "    80% {\n",
              "      border-color: transparent;\n",
              "      border-right-color: var(--fill-color);\n",
              "      border-bottom-color: var(--fill-color);\n",
              "    }\n",
              "    90% {\n",
              "      border-color: transparent;\n",
              "      border-bottom-color: var(--fill-color);\n",
              "    }\n",
              "  }\n",
              "</style>\n",
              "\n",
              "  <script>\n",
              "    async function quickchart(key) {\n",
              "      const quickchartButtonEl =\n",
              "        document.querySelector('#' + key + ' button');\n",
              "      quickchartButtonEl.disabled = true;  // To prevent multiple clicks.\n",
              "      quickchartButtonEl.classList.add('colab-df-spinner');\n",
              "      try {\n",
              "        const charts = await google.colab.kernel.invokeFunction(\n",
              "            'suggestCharts', [key], {});\n",
              "      } catch (error) {\n",
              "        console.error('Error during call to suggestCharts:', error);\n",
              "      }\n",
              "      quickchartButtonEl.classList.remove('colab-df-spinner');\n",
              "      quickchartButtonEl.classList.add('colab-df-quickchart-complete');\n",
              "    }\n",
              "    (() => {\n",
              "      let quickchartButtonEl =\n",
              "        document.querySelector('#df-3300243d-fc3a-4300-a9f9-b786dfc80cc8 button');\n",
              "      quickchartButtonEl.style.display =\n",
              "        google.colab.kernel.accessAllowed ? 'block' : 'none';\n",
              "    })();\n",
              "  </script>\n",
              "</div>\n",
              "    </div>\n",
              "  </div>\n"
            ],
            "application/vnd.google.colaboratory.intrinsic+json": {
              "type": "dataframe",
              "summary": "{\n  \"name\": \"missing_values_table(train)\",\n  \"rows\": 19,\n  \"fields\": [\n    {\n      \"column\": \"Missing Values\",\n      \"properties\": {\n        \"dtype\": \"number\",\n        \"std\": 551,\n        \"min\": 1,\n        \"max\": 1453,\n        \"num_unique_values\": 12,\n        \"samples\": [\n          8,\n          37,\n          1453\n        ],\n        \"semantic_type\": \"\",\n        \"description\": \"\"\n      }\n    },\n    {\n      \"column\": \"% of Total Values\",\n      \"properties\": {\n        \"dtype\": \"number\",\n        \"std\": 37.774380996240346,\n        \"min\": 0.1,\n        \"max\": 99.5,\n        \"num_unique_values\": 12,\n        \"samples\": [\n          0.5,\n          2.5,\n          99.5\n        ],\n        \"semantic_type\": \"\",\n        \"description\": \"\"\n      }\n    }\n  ]\n}"
            }
          },
          "metadata": {},
          "execution_count": 19
        }
      ]
    },
    {
      "cell_type": "markdown",
      "source": [
        "### вывод пропусков и их график"
      ],
      "metadata": {
        "id": "0JgGSQO13gJq"
      }
    },
    {
      "cell_type": "code",
      "source": [
        "all_data_na = (train.isnull().sum() / len(train)) * 100\n",
        "all_data_na = all_data_na.drop(all_data_na[all_data_na == 0].index).sort_values(ascending=False)[:30]\n"
      ],
      "metadata": {
        "id": "kIReoQ8V3Qor"
      },
      "execution_count": 20,
      "outputs": []
    },
    {
      "cell_type": "code",
      "source": [
        "f, ax = plt.subplots(figsize=(10, 8))\n",
        "plt.xticks(rotation='vertical')\n",
        "sns.barplot(x=all_data_na.index, y=all_data_na)\n",
        "plt.xlabel('Features', fontsize=15)\n",
        "plt.ylabel('Percent of missing values', fontsize=15)\n",
        "plt.title('Percent missing data by feature', fontsize=15);"
      ],
      "metadata": {
        "colab": {
          "base_uri": "https://localhost:8080/",
          "height": 812
        },
        "id": "ko3RzLAQ6EMp",
        "outputId": "9223cc6a-5da1-4ca2-f100-ba366e8168f8"
      },
      "execution_count": 21,
      "outputs": [
        {
          "output_type": "display_data",
          "data": {
            "text/plain": [
              "<Figure size 1000x800 with 1 Axes>"
            ],
            "image/png": "[encoded data removed]"
          },
          "metadata": {}
        }
      ]
    },
    {
      "cell_type": "code",
      "source": [
        "# визуализация пропущенных значений с помощью тепловой карты\n",
        "# желтый - пропущенные данные, синий - не пропущенные\n",
        "colours = ['#000099', '#ffff00']\n",
        "sns.heatmap(train.isnull(), cmap=sns.color_palette(colours));\n",
        "plt.suptitle('Визуализация пропущенных значений с помощью тепловой карты')\n",
        "plt.title(\"Желтый - пропуск, синий- заполненное значение\", fontsize =9);\n",
        "plt.ylabel('Номер строки');\n",
        "plt.xlabel('Имя столбца');"
      ],
      "metadata": {
        "colab": {
          "base_uri": "https://localhost:8080/",
          "height": 590
        },
        "id": "FLQoJdeQXlLd",
        "outputId": "2c48ba05-917a-41c2-902b-612e209582b0"
      },
      "execution_count": 22,
      "outputs": [
        {
          "output_type": "display_data",
          "data": {
            "text/plain": [
              "<Figure size 640x480 with 2 Axes>"
            ],
            "image/png": "[encoded data removed]"
          },
          "metadata": {}
        }
      ]
    },
    {
      "cell_type": "markdown",
      "source": [
        "Хотя мы хотим не упустить информацию и должны быть осторожны при удалении столбцов, если столбец имеет высокий процент пропущенных значений, то он, вероятно, будет не очень полезен.\n",
        "\n",
        "Выбор столбцов может быть несколько произвольным , но для данного проекта мы удалим все столбцы с более чем 80 % пропущенных значений. В целом, будьте осторожны, отбрасывая любую информацию, потому что даже если ее нет во всех наблюдениях, она все равно может быть полезна для прогнозирования целевого значения."
      ],
      "metadata": {
        "id": "vlLtIL4lDcfw"
      }
    },
    {
      "cell_type": "code",
      "source": [
        "# Get the columns with > 80% missing\n",
        "missing_df = missing_values_table(train)\n",
        "missing_columns = list(missing_df[missing_df['% of Total Values'] > 80].index)\n",
        "print('We will remove %d columns.' % len(missing_columns))"
      ],
      "metadata": {
        "colab": {
          "base_uri": "https://localhost:8080/"
        },
        "id": "x4iu3nJKDqeL",
        "outputId": "08dc89f5-6d75-4aca-86e8-c5da219b472a"
      },
      "execution_count": 23,
      "outputs": [
        {
          "output_type": "stream",
          "name": "stdout",
          "text": [
            "Your selected dataframe has 81 columns.\n",
            "There are 19 columns that have missing values.\n",
            "We will remove 4 columns.\n"
          ]
        }
      ]
    },
    {
      "cell_type": "code",
      "source": [
        "# Drop the columns\n",
        "#train = train.drop(columns = list(missing_columns))"
      ],
      "metadata": {
        "id": "m98muRBOQ9vF"
      },
      "execution_count": 24,
      "outputs": []
    },
    {
      "cell_type": "code",
      "source": [
        "missing_columns"
      ],
      "metadata": {
        "colab": {
          "base_uri": "https://localhost:8080/"
        },
        "id": "ndGqihhwP0nd",
        "outputId": "e62419ff-3897-4960-a47a-73bfe042c196"
      },
      "execution_count": 25,
      "outputs": [
        {
          "output_type": "execute_result",
          "data": {
            "text/plain": [
              "['PoolQC', 'MiscFeature', 'Alley', 'Fence']"
            ]
          },
          "metadata": {},
          "execution_count": 25
        }
      ]
    },
    {
      "cell_type": "markdown",
      "source": [
        "Остальные недостающие значения придется заполнять с помощью соответствующей стратегии, прежде чем приступать к машинному обучению.\n"
      ],
      "metadata": {
        "id": "7lWhJL2kETmm"
      }
    },
    {
      "cell_type": "code",
      "source": [
        "numeric_features,categorical_features =  num_cat(train)"
      ],
      "metadata": {
        "colab": {
          "base_uri": "https://localhost:8080/"
        },
        "id": "uqJrVdRoRQkL",
        "outputId": "a6d034a9-5381-4864-cdff-2222d983b709"
      },
      "execution_count": 26,
      "outputs": [
        {
          "output_type": "stream",
          "name": "stdout",
          "text": [
            "Числовые столбцы: Index(['Id', 'MSSubClass', 'LotFrontage', 'LotArea', 'OverallQual',\n",
            "       'OverallCond', 'YearBuilt', 'YearRemodAdd', 'MasVnrArea', 'BsmtFinSF1',\n",
            "       'BsmtFinSF2', 'BsmtUnfSF', 'TotalBsmtSF', '1stFlrSF', '2ndFlrSF',\n",
            "       'LowQualFinSF', 'GrLivArea', 'BsmtFullBath', 'BsmtHalfBath', 'FullBath',\n",
            "       'HalfBath', 'BedroomAbvGr', 'KitchenAbvGr', 'TotRmsAbvGrd',\n",
            "       'Fireplaces', 'GarageYrBlt', 'GarageCars', 'GarageArea', 'WoodDeckSF',\n",
            "       'OpenPorchSF', 'EnclosedPorch', '3SsnPorch', 'ScreenPorch', 'PoolArea',\n",
            "       'MiscVal', 'MoSold', 'YrSold', 'SalePrice'],\n",
            "      dtype='object')\n",
            "Категориальные столбцы: Index(['MSZoning', 'Street', 'Alley', 'LotShape', 'LandContour', 'Utilities',\n",
            "       'LotConfig', 'LandSlope', 'Neighborhood', 'Condition1', 'Condition2',\n",
            "       'BldgType', 'HouseStyle', 'RoofStyle', 'RoofMatl', 'Exterior1st',\n",
            "       'Exterior2nd', 'MasVnrType', 'ExterQual', 'ExterCond', 'Foundation',\n",
            "       'BsmtQual', 'BsmtCond', 'BsmtExposure', 'BsmtFinType1', 'BsmtFinType2',\n",
            "       'Heating', 'HeatingQC', 'CentralAir', 'Electrical', 'KitchenQual',\n",
            "       'Functional', 'FireplaceQu', 'GarageType', 'GarageFinish', 'GarageQual',\n",
            "       'GarageCond', 'PavedDrive', 'PoolQC', 'Fence', 'MiscFeature',\n",
            "       'SaleType', 'SaleCondition'],\n",
            "      dtype='object')\n"
          ]
        }
      ]
    },
    {
      "cell_type": "code",
      "source": [
        "for col in numeric_features:\n",
        "  analyze_outliers(train, col)"
      ],
      "metadata": {
        "colab": {
          "base_uri": "https://localhost:8080/"
        },
        "id": "QQU68AmLRUJp",
        "outputId": "e4f482ab-af49-4803-8093-82d33a60700d"
      },
      "execution_count": 27,
      "outputs": [
        {
          "output_type": "stream",
          "name": "stdout",
          "text": [
            "____________________________________________________________________\n",
            "интервал фактических значений для переменной Id от 1 до 1460\n",
            "интервал нормальных значений для переменной Id от 0 до 2189.5\n",
            "переменная Id содержит аномальных значений : 0.0%\n",
            "____________________________________________________________________\n",
            "интервал фактических значений для переменной MSSubClass от 20 до 190\n",
            "интервал нормальных значений для переменной MSSubClass от 0 до 145.0\n",
            "переменная MSSubClass содержит аномальных значений : 7.05%\n",
            "____________________________________________________________________\n",
            "интервал фактических значений для переменной LotFrontage от 21.0 до 313.0\n",
            "интервал нормальных значений для переменной LotFrontage от nan до nan\n",
            "переменная LotFrontage содержит аномальных значений : 0.0%\n",
            "____________________________________________________________________\n",
            "интервал фактических значений для переменной LotArea от 1300 до 215245\n",
            "интервал нормальных значений для переменной LotArea от 1481.5 до 17673.5\n",
            "переменная LotArea содержит аномальных значений : 4.73%\n",
            "____________________________________________________________________\n",
            "интервал фактических значений для переменной OverallQual от 1 до 10\n",
            "интервал нормальных значений для переменной OverallQual от 2.0 до 10.0\n",
            "переменная OverallQual содержит аномальных значений : 0.14%\n",
            "____________________________________________________________________\n",
            "интервал фактических значений для переменной OverallCond от 1 до 9\n",
            "интервал нормальных значений для переменной OverallCond от 3.5 до 7.5\n",
            "переменная OverallCond содержит аномальных значений : 8.56%\n",
            "____________________________________________________________________\n",
            "интервал фактических значений для переменной YearBuilt от 1872 до 2010\n",
            "интервал нормальных значений для переменной YearBuilt от 1885.0 до 2069.0\n",
            "переменная YearBuilt содержит аномальных значений : 0.48%\n",
            "____________________________________________________________________\n",
            "интервал фактических значений для переменной YearRemodAdd от 1950 до 2010\n",
            "интервал нормальных значений для переменной YearRemodAdd от 1911.5 до 2059.5\n",
            "переменная YearRemodAdd содержит аномальных значений : 0.0%\n",
            "____________________________________________________________________\n",
            "интервал фактических значений для переменной MasVnrArea от 0.0 до 1600.0\n",
            "интервал нормальных значений для переменной MasVnrArea от nan до nan\n",
            "переменная MasVnrArea содержит аномальных значений : 0.0%\n",
            "____________________________________________________________________\n",
            "интервал фактических значений для переменной BsmtFinSF1 от 0 до 5644\n",
            "интервал нормальных значений для переменной BsmtFinSF1 от 0 до 1780.62\n",
            "переменная BsmtFinSF1 содержит аномальных значений : 0.48%\n",
            "____________________________________________________________________\n",
            "интервал фактических значений для переменной BsmtFinSF2 от 0 до 1474\n",
            "интервал нормальных значений для переменной BsmtFinSF2 от 0.0 до 0.0\n",
            "переменная BsmtFinSF2 содержит аномальных значений : 11.44%\n",
            "____________________________________________________________________\n",
            "интервал фактических значений для переменной BsmtUnfSF от 0 до 2336\n",
            "интервал нормальных значений для переменной BsmtUnfSF от 0 до 1685.5\n",
            "переменная BsmtUnfSF содержит аномальных значений : 1.99%\n",
            "____________________________________________________________________\n",
            "интервал фактических значений для переменной TotalBsmtSF от 0 до 6110\n",
            "интервал нормальных значений для переменной TotalBsmtSF от 42.0 до 2052.0\n",
            "переменная TotalBsmtSF содержит аномальных значений : 4.18%\n",
            "____________________________________________________________________\n",
            "интервал фактических значений для переменной 1stFlrSF от 334 до 4692\n",
            "интервал нормальных значений для переменной 1stFlrSF от 118.12 до 2155.12\n",
            "переменная 1stFlrSF содержит аномальных значений : 1.37%\n",
            "____________________________________________________________________\n",
            "интервал фактических значений для переменной 2ndFlrSF от 0 до 2065\n",
            "интервал нормальных значений для переменной 2ndFlrSF от 0 до 1820.0\n",
            "переменная 2ndFlrSF содержит аномальных значений : 0.14%\n",
            "____________________________________________________________________\n",
            "интервал фактических значений для переменной LowQualFinSF от 0 до 572\n",
            "интервал нормальных значений для переменной LowQualFinSF от 0.0 до 0.0\n",
            "переменная LowQualFinSF содержит аномальных значений : 1.78%\n",
            "____________________________________________________________________\n",
            "интервал фактических значений для переменной GrLivArea от 334 до 5642\n",
            "интервал нормальных значений для переменной GrLivArea от 158.62 до 2747.62\n",
            "переменная GrLivArea содержит аномальных значений : 2.12%\n",
            "____________________________________________________________________\n",
            "интервал фактических значений для переменной BsmtFullBath от 0 до 3\n",
            "интервал нормальных значений для переменной BsmtFullBath от 0 до 2.5\n",
            "переменная BsmtFullBath содержит аномальных значений : 0.07%\n",
            "____________________________________________________________________\n",
            "интервал фактических значений для переменной BsmtHalfBath от 0 до 2\n",
            "интервал нормальных значений для переменной BsmtHalfBath от 0.0 до 0.0\n",
            "переменная BsmtHalfBath содержит аномальных значений : 5.62%\n",
            "____________________________________________________________________\n",
            "интервал фактических значений для переменной FullBath от 0 до 3\n",
            "интервал нормальных значений для переменной FullBath от 0 до 3.5\n",
            "переменная FullBath содержит аномальных значений : 0.0%\n",
            "____________________________________________________________________\n",
            "интервал фактических значений для переменной HalfBath от 0 до 2\n",
            "интервал нормальных значений для переменной HalfBath от 0 до 2.5\n",
            "переменная HalfBath содержит аномальных значений : 0.0%\n",
            "____________________________________________________________________\n",
            "интервал фактических значений для переменной BedroomAbvGr от 0 до 8\n",
            "интервал нормальных значений для переменной BedroomAbvGr от 0.5 до 4.5\n",
            "переменная BedroomAbvGr содержит аномальных значений : 2.4%\n",
            "____________________________________________________________________\n",
            "интервал фактических значений для переменной KitchenAbvGr от 0 до 3\n",
            "интервал нормальных значений для переменной KitchenAbvGr от 1.0 до 1.0\n",
            "переменная KitchenAbvGr содержит аномальных значений : 4.66%\n",
            "____________________________________________________________________\n",
            "интервал фактических значений для переменной TotRmsAbvGrd от 2 до 14\n",
            "интервал нормальных значений для переменной TotRmsAbvGrd от 2.0 до 10.0\n",
            "переменная TotRmsAbvGrd содержит аномальных значений : 2.05%\n",
            "____________________________________________________________________\n",
            "интервал фактических значений для переменной Fireplaces от 0 до 3\n",
            "интервал нормальных значений для переменной Fireplaces от 0 до 2.5\n",
            "переменная Fireplaces содержит аномальных значений : 0.34%\n",
            "____________________________________________________________________\n",
            "интервал фактических значений для переменной GarageYrBlt от 1900.0 до 2010.0\n",
            "интервал нормальных значений для переменной GarageYrBlt от nan до nan\n",
            "переменная GarageYrBlt содержит аномальных значений : 0.0%\n",
            "____________________________________________________________________\n",
            "интервал фактических значений для переменной GarageCars от 0 до 4\n",
            "интервал нормальных значений для переменной GarageCars от 0 до 3.5\n",
            "переменная GarageCars содержит аномальных значений : 0.34%\n",
            "____________________________________________________________________\n",
            "интервал фактических значений для переменной GarageArea от 0 до 1418\n",
            "интервал нормальных значений для переменной GarageArea от 0 до 938.25\n",
            "переменная GarageArea содержит аномальных значений : 1.44%\n",
            "____________________________________________________________________\n",
            "интервал фактических значений для переменной WoodDeckSF от 0 до 857\n",
            "интервал нормальных значений для переменной WoodDeckSF от 0 до 420.0\n",
            "переменная WoodDeckSF содержит аномальных значений : 2.19%\n",
            "____________________________________________________________________\n",
            "интервал фактических значений для переменной OpenPorchSF от 0 до 547\n",
            "интервал нормальных значений для переменной OpenPorchSF от 0 до 170.0\n",
            "переменная OpenPorchSF содержит аномальных значений : 5.27%\n",
            "____________________________________________________________________\n",
            "интервал фактических значений для переменной EnclosedPorch от 0 до 552\n",
            "интервал нормальных значений для переменной EnclosedPorch от 0.0 до 0.0\n",
            "переменная EnclosedPorch содержит аномальных значений : 14.25%\n",
            "____________________________________________________________________\n",
            "интервал фактических значений для переменной 3SsnPorch от 0 до 508\n",
            "интервал нормальных значений для переменной 3SsnPorch от 0.0 до 0.0\n",
            "переменная 3SsnPorch содержит аномальных значений : 1.64%\n",
            "____________________________________________________________________\n",
            "интервал фактических значений для переменной ScreenPorch от 0 до 480\n",
            "интервал нормальных значений для переменной ScreenPorch от 0.0 до 0.0\n",
            "переменная ScreenPorch содержит аномальных значений : 7.95%\n",
            "____________________________________________________________________\n",
            "интервал фактических значений для переменной PoolArea от 0 до 738\n",
            "интервал нормальных значений для переменной PoolArea от 0.0 до 0.0\n",
            "переменная PoolArea содержит аномальных значений : 0.48%\n",
            "____________________________________________________________________\n",
            "интервал фактических значений для переменной MiscVal от 0 до 15500\n",
            "интервал нормальных значений для переменной MiscVal от 0.0 до 0.0\n",
            "переменная MiscVal содержит аномальных значений : 3.56%\n",
            "____________________________________________________________________\n",
            "интервал фактических значений для переменной MoSold от 1 до 12\n",
            "интервал нормальных значений для переменной MoSold от 0.5 до 12.5\n",
            "переменная MoSold содержит аномальных значений : 0.0%\n",
            "____________________________________________________________________\n",
            "интервал фактических значений для переменной YrSold от 2006 до 2010\n",
            "интервал нормальных значений для переменной YrSold от 2004.0 до 2012.0\n",
            "переменная YrSold содержит аномальных значений : 0.0%\n",
            "____________________________________________________________________\n",
            "интервал фактических значений для переменной SalePrice от 34900 до 755000\n",
            "интервал нормальных значений для переменной SalePrice от 3937.5 до 340037.5\n",
            "переменная SalePrice содержит аномальных значений : 4.18%\n"
          ]
        }
      ]
    },
    {
      "cell_type": "markdown",
      "source": [
        "## Исследовательский анализ данных  EDA\n",
        "\n",
        "(EDA) - это открытый процесс, в ходе которого мы строим графики и подсчитываем статистику, чтобы изучить наши данные. Цель - найти аномалии, закономерности, тенденции или взаимосвязи. Они могут быть интересны сами по себе (например, обнаружение корреляции между двумя переменными) или использоваться для обоснования решений по моделированию, например, о том, какие функции использовать. Короче говоря, цель EDA - определить, что могут рассказать нам наши данные! Обычно EDA начинается с высокоуровневого обзора, а затем, по мере нахождения интересных областей для изучения, сужается до конкретных частей набора данных."
      ],
      "metadata": {
        "id": "nLK7t8ncaO45"
      }
    },
    {
      "cell_type": "markdown",
      "source": [
        "Чтобы начать EDA, мы сосредоточимся на одной переменной - SalePrice, поскольку именно она является целью для наших моделей машинного обучения."
      ],
      "metadata": {
        "id": "sARpP59FGXqj"
      }
    },
    {
      "cell_type": "code",
      "source": [
        "\n",
        "\n",
        "\n",
        "# Histogram of the Energy Star Score\n",
        "plt.style.use('fivethirtyeight')\n",
        "plt.hist(train['SalePrice'].dropna(), bins = 100, edgecolor = 'k');\n",
        "plt.xlabel('SalePrice'); plt.ylabel('Number of Prices');\n",
        "plt.title('SalePrice Distribution');"
      ],
      "metadata": {
        "colab": {
          "base_uri": "https://localhost:8080/",
          "height": 508
        },
        "id": "SxyiT27kGmfU",
        "outputId": "c62eb907-9fde-49fe-bc5c-7aa4f3fbd413"
      },
      "execution_count": 28,
      "outputs": [
        {
          "output_type": "display_data",
          "data": {
            "text/plain": [
              "<Figure size 640x480 with 1 Axes>"
            ],
            "image/png": "[encoded data removed]"
          },
          "metadata": {}
        }
      ]
    },
    {
      "cell_type": "markdown",
      "source": [
        "Распределение нормальное, скошено вправо"
      ],
      "metadata": {
        "id": "EzX4Jy6zHG7-"
      }
    },
    {
      "cell_type": "markdown",
      "source": [
        "### Удаление выбросов"
      ],
      "metadata": {
        "id": "iAnyCO2dH6CV"
      }
    },
    {
      "cell_type": "markdown",
      "source": [
        "Когда мы удаляем выбросы, мы должны быть уверены, что не отбрасываем измерения только потому, что они выглядят странно. Они могут быть результатом реального явления, которое нам следует изучить. При удалении выбросов я стараюсь быть как можно более консервативным, используя определение экстремального выброса:\n",
        "\n",
        "![image.png](data:image/png;base64,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)\n",
        "\n",
        "В данном случае я удалю только одну точку с экстремальным значением и посмотрю, как будет выглядеть распределение."
      ],
      "metadata": {
        "id": "AHcA1VclIJZq"
      }
    },
    {
      "cell_type": "code",
      "source": [
        "# Histogram of the Energy Star Score\n",
        "plt.style.use('fivethirtyeight')\n",
        "plt.hist(train['LotArea'].dropna(), bins = 100, edgecolor = 'k');\n",
        "plt.xlabel('LotArea');\n",
        "plt.ylabel('Number ');\n",
        "plt.title('LotArea Distribution');\n"
      ],
      "metadata": {
        "colab": {
          "base_uri": "https://localhost:8080/",
          "height": 508
        },
        "id": "m2iqRpBwJ2EB",
        "outputId": "338d6637-a071-473c-f96b-df3980ba11d0"
      },
      "execution_count": 29,
      "outputs": [
        {
          "output_type": "display_data",
          "data": {
            "text/plain": [
              "<Figure size 640x480 with 1 Axes>"
            ],
            "image/png": "[encoded data removed]"
          },
          "metadata": {}
        }
      ]
    },
    {
      "cell_type": "code",
      "source": [
        "# Calculate first and third quartile\n",
        "first_quartile = train['LotArea'].describe()['25%']\n",
        "third_quartile = train['LotArea'].describe()['75%']\n",
        "\n",
        "# Interquartile range\n",
        "iqr = third_quartile - first_quartile\n",
        "\n",
        "# Remove outliers\n",
        "train = train[(train['LotArea']> (first_quartile - 3 * iqr)) &\n",
        "            (train['LotArea'] < (third_quartile + 3 * iqr))]"
      ],
      "metadata": {
        "id": "b94mDozjKRmH"
      },
      "execution_count": 30,
      "outputs": []
    },
    {
      "cell_type": "code",
      "source": [
        "# Histogram Plot of Site EUI\n",
        "\n",
        "plt.hist(train['LotArea'].dropna(), bins = 20, edgecolor = 'black');\n",
        "plt.xlabel('LotArea');\n",
        "plt.ylabel('Count'); plt.title('LotArea Distribution');"
      ],
      "metadata": {
        "colab": {
          "base_uri": "https://localhost:8080/",
          "height": 508
        },
        "id": "E_7nGboWKkR2",
        "outputId": "9d81a8e4-9882-45b4-8075-199a0b93b3c4"
      },
      "execution_count": 31,
      "outputs": [
        {
          "output_type": "display_data",
          "data": {
            "text/plain": [
              "<Figure size 640x480 with 1 Axes>"
            ],
            "image/png": "[encoded data removed]"
          },
          "metadata": {}
        }
      ]
    },
    {
      "cell_type": "code",
      "source": [
        "\n",
        "# Histogram Plot of Site EUI\n",
        "\n",
        "plt.hist(train['OverallQual'].dropna(), bins = 20, edgecolor = 'black');\n",
        "plt.xlabel('OverallQual');\n",
        "plt.ylabel('Count'); plt.title('OverallQual Distribution');"
      ],
      "metadata": {
        "colab": {
          "base_uri": "https://localhost:8080/",
          "height": 508
        },
        "id": "-kCrAWM5YJNv",
        "outputId": "46a641e4-7c25-4c3a-f3fc-8d23d4e0d0f4"
      },
      "execution_count": 32,
      "outputs": [
        {
          "output_type": "display_data",
          "data": {
            "text/plain": [
              "<Figure size 640x480 with 1 Axes>"
            ],
            "image/png": "[encoded data removed]"
          },
          "metadata": {}
        }
      ]
    },
    {
      "cell_type": "markdown",
      "source": [
        "Удалив выбросы, мы можем вернуться к анализу.\n",
        "\n",
        "Этот график выглядит немного менее подозрительно и близок к нормальному распределению с длинным хвостом в правой части (у него положительный перекос)."
      ],
      "metadata": {
        "id": "WT9wRk5USgnG"
      }
    },
    {
      "cell_type": "code",
      "source": [
        "train = train.drop(train[(train['1stFlrSF'] > 3000)\n",
        "                                  & (train['SalePrice'] < 200000)].index)\n",
        "train = train.drop(train[(train['GrLivArea'] > 3000)\n",
        "                                  & (train['SalePrice'] < 300000)].index)\n",
        "train = train.drop(train[(train['GarageArea'] > 1200)\n",
        "                                  & (train['SalePrice'] < 300000)].index)\n",
        "train = train.drop(train[(train['TotalBsmtSF'] > 4000)\n",
        "                                  & (train['SalePrice'] < 200000)].index)\n",
        "train = train.drop(train[(train['TotRmsAbvGrd'] >13)\n",
        "                                  & (train['SalePrice'] < 250000)].index)"
      ],
      "metadata": {
        "id": "wjR_nJKigdfS"
      },
      "execution_count": 35,
      "outputs": []
    },
    {
      "cell_type": "markdown",
      "source": [
        "### Поиск взаимосвязей\n",
        "\n",
        "Чтобы посмотреть на влияние категориальных переменных на оценку, мы можем построить график плотности, окрашенный по значению категориальной переменной. Графики плотности также показывают распределение одной переменной и могут рассматриваться как сглаженная гистограмма. Если мы раскрасим кривые плотности по категориальной переменной, это покажет нам, как меняется распределение в зависимости от класса."
      ],
      "metadata": {
        "id": "p7lYbV7NSyDU"
      }
    },
    {
      "cell_type": "code",
      "source": [
        "sns.kdeplot(data=train, x='SalePrice', hue='MSZoning')\n",
        "plt.title('Density Plot of SalePrice by MSZoning', size = 28);\n",
        "plt.xlabel('SalePrice', size = 20); plt.ylabel('Density', size = 20);\n",
        "plt.show()\n",
        "# label the plot"
      ],
      "metadata": {
        "colab": {
          "base_uri": "https://localhost:8080/",
          "height": 540
        },
        "id": "awurN3XEb9CE",
        "outputId": "8c9f7318-d806-483a-b4ec-7494cb2bd3db"
      },
      "execution_count": 36,
      "outputs": [
        {
          "output_type": "display_data",
          "data": {
            "text/plain": [
              "<Figure size 640x480 with 1 Axes>"
            ],
            "image/png": "[encoded data removed]"
          },
          "metadata": {}
        }
      ]
    },
    {
      "cell_type": "markdown",
      "source": [
        "### Корреляции между признаками и таргетом\n",
        "\n",
        "Приведенный ниже код вычисляет коэффициенты корреляции между всеми переменными и ценой дома.\n"
      ],
      "metadata": {
        "id": "s8K6mc9tefbY"
      }
    },
    {
      "cell_type": "code",
      "source": [
        "# Find all correlations and sort\n",
        "correlations_data = train.corr(numeric_only=True)['SalePrice'].sort_values()\n",
        "\n",
        "# Print the most negative correlations\n",
        "print(correlations_data.head(15), '\\n')\n",
        "\n",
        "# Print the most positive correlations\n",
        "print(correlations_data.tail(15))"
      ],
      "metadata": {
        "colab": {
          "base_uri": "https://localhost:8080/"
        },
        "id": "WrriFzIQfyEV",
        "outputId": "97278b5c-f656-446d-c6ee-0afc1323dbe6"
      },
      "execution_count": 37,
      "outputs": [
        {
          "output_type": "stream",
          "name": "stdout",
          "text": [
            "KitchenAbvGr    -0.138962\n",
            "EnclosedPorch   -0.137566\n",
            "MSSubClass      -0.084968\n",
            "OverallCond     -0.084209\n",
            "LowQualFinSF    -0.037576\n",
            "YrSold          -0.028641\n",
            "BsmtFinSF2      -0.022462\n",
            "MiscVal         -0.020559\n",
            "BsmtHalfBath    -0.018995\n",
            "Id              -0.015339\n",
            "MoSold           0.045217\n",
            "3SsnPorch        0.048604\n",
            "PoolArea         0.104134\n",
            "ScreenPorch      0.109288\n",
            "BedroomAbvGr     0.166103\n",
            "Name: SalePrice, dtype: float64 \n",
            "\n",
            "LotArea         0.425628\n",
            "Fireplaces      0.469271\n",
            "MasVnrArea      0.470642\n",
            "GarageYrBlt     0.507443\n",
            "YearRemodAdd    0.519363\n",
            "TotRmsAbvGrd    0.542431\n",
            "YearBuilt       0.543139\n",
            "FullBath        0.567080\n",
            "1stFlrSF        0.634690\n",
            "GarageArea      0.649713\n",
            "GarageCars      0.652090\n",
            "TotalBsmtSF     0.652209\n",
            "GrLivArea       0.737370\n",
            "OverallQual     0.802672\n",
            "SalePrice       1.000000\n",
            "Name: SalePrice, dtype: float64\n"
          ]
        }
      ]
    },
    {
      "cell_type": "code",
      "source": [
        "# Create a list of buildings with more than 100 measurements\n",
        "types = train.dropna(subset=['SalePrice'])\n",
        "types = types['MSZoning'].value_counts()\n",
        "types = list(types[types.values > 100].index)"
      ],
      "metadata": {
        "id": "KM5kcab9VRiL"
      },
      "execution_count": 38,
      "outputs": []
    },
    {
      "cell_type": "markdown",
      "source": [
        "Существует несколько сильных отрицательных корреляций между характеристиками и целевым показателем. Наиболее отрицательно коррелируют с показателем EnclosedPorch и KitchenAbvGr"
      ],
      "metadata": {
        "id": "B6X_HxRpjRBi"
      }
    },
    {
      "cell_type": "markdown",
      "source": [
        "## Подготовка данных"
      ],
      "metadata": {
        "id": "GnIv7FBcmdDd"
      }
    },
    {
      "cell_type": "code",
      "source": [
        "# Separate target variable and features\n",
        "y = train['SalePrice']\n",
        "X = train.drop(columns=['SalePrice', 'Id'])\n",
        "test_ids = test['Id']\n",
        "test.drop(columns=['Id'], inplace=True)\n",
        "\n",
        "# Identify categorical and numerical columns\n",
        "categorical_cols = X.select_dtypes(include=['object']).columns\n",
        "numerical_cols = X.select_dtypes(include=['float64', 'int64']).columns"
      ],
      "metadata": {
        "id": "GWkOc_0rjx-M"
      },
      "execution_count": 39,
      "outputs": []
    },
    {
      "cell_type": "code",
      "execution_count": 40,
      "metadata": {
        "id": "W6S2zTJ4l9I5"
      },
      "outputs": [],
      "source": [
        "cols_to_drop = [\"Alley\", \"FireplaceQu\", \"PoolQC\", \"Fence\", \"MiscFeature\"]\n",
        "train.drop(columns=cols_to_drop, inplace=True)\n",
        "test.drop(columns=cols_to_drop, inplace=True)\n",
        "\n",
        "# Fill missing values\n",
        "for df in [train, test]:\n",
        "   # Numerical columns\n",
        "   num_cols = df.select_dtypes(include=[\"float64\", \"int64\"]).columns\n",
        "   df[num_cols] = df[num_cols].fillna(df[num_cols].median())\n",
        "\n",
        "   # Categorical columns\n",
        "   cat_cols = df.select_dtypes(include=[\"object\"]).columns\n",
        "   df[cat_cols] = df[cat_cols].fillna(\"NA\")"
      ]
    },
    {
      "cell_type": "code",
      "execution_count": 41,
      "metadata": {
        "id": "9yijydDbl9I5"
      },
      "outputs": [],
      "source": [
        "# Identify categorical and numerical columns\n",
        "X.drop(columns=cols_to_drop, inplace=True)\n",
        "categorical_cols = X.select_dtypes(include=['object']).columns\n",
        "numerical_cols = X.select_dtypes(include=['float64', 'int64']).columns"
      ]
    },
    {
      "cell_type": "markdown",
      "source": [
        "### Разбивка на фичи и таргет\n",
        "\n",
        "\n",
        "\n"
      ],
      "metadata": {
        "id": "_r_j6i87moOw"
      }
    },
    {
      "cell_type": "code",
      "execution_count": 42,
      "metadata": {
        "id": "cnT_dYogl9I5"
      },
      "outputs": [],
      "source": [
        "y = train['SalePrice']\n",
        "X = train.drop(columns=['SalePrice', 'Id'])"
      ]
    },
    {
      "cell_type": "markdown",
      "source": [
        "### Разбивка данных на тест и валид"
      ],
      "metadata": {
        "id": "xMAgFcgwm55M"
      }
    },
    {
      "cell_type": "code",
      "execution_count": 43,
      "metadata": {
        "id": "4SwM8e5_l9I5"
      },
      "outputs": [],
      "source": [
        "# Split the training data\n",
        "X_train, X_val, y_train, y_val = train_test_split(X, y, test_size=0.2, random_state=42)"
      ]
    },
    {
      "cell_type": "markdown",
      "source": [
        "### Feature engineering"
      ],
      "metadata": {
        "id": "J434ma-nnR1K"
      }
    },
    {
      "cell_type": "markdown",
      "source": [
        "#### train"
      ],
      "metadata": {
        "id": "ClIJJfKkoa7e"
      }
    },
    {
      "cell_type": "code",
      "execution_count": 44,
      "metadata": {
        "id": "onRXqsEtFoIZ"
      },
      "outputs": [],
      "source": [
        "\n",
        "X_train['Exterior'] = X_train['Exterior1st']+X_train['Exterior2nd']\n",
        "X_train = X_train.drop(columns=['Exterior2nd', 'Exterior1st'])"
      ]
    },
    {
      "cell_type": "code",
      "execution_count": 45,
      "metadata": {
        "id": "hd-dSR7IGjaM"
      },
      "outputs": [],
      "source": [
        "X_train['Condition'] = X_train['Condition1']+X_train['Condition2']\n",
        "X_train = X_train.drop(columns=['Condition1', 'Condition2'])"
      ]
    },
    {
      "cell_type": "markdown",
      "source": [
        "#### val"
      ],
      "metadata": {
        "id": "mzMSeCF0ojoo"
      }
    },
    {
      "cell_type": "code",
      "source": [
        "X_val.Condition1"
      ],
      "metadata": {
        "colab": {
          "base_uri": "https://localhost:8080/",
          "height": 458
        },
        "id": "MZpJ1_NFsGUy",
        "outputId": "4e3c2bbb-b4bf-43d5-e6fa-78791368c480"
      },
      "execution_count": 46,
      "outputs": [
        {
          "output_type": "execute_result",
          "data": {
            "text/plain": [
              "51       Norm\n",
              "294      Norm\n",
              "696      Norm\n",
              "1033     Norm\n",
              "375      Norm\n",
              "        ...  \n",
              "1327     Norm\n",
              "359      Norm\n",
              "1336    Feedr\n",
              "1450     Norm\n",
              "563      Norm\n",
              "Name: Condition1, Length: 284, dtype: object"
            ],
            "text/html": [
              "<div>\n",
              "<style scoped>\n",
              "    .dataframe tbody tr th:only-of-type {\n",
              "        vertical-align: middle;\n",
              "    }\n",
              "\n",
              "    .dataframe tbody tr th {\n",
              "        vertical-align: top;\n",
              "    }\n",
              "\n",
              "    .dataframe thead th {\n",
              "        text-align: right;\n",
              "    }\n",
              "</style>\n",
              "<table border=\"1\" class=\"dataframe\">\n",
              "  <thead>\n",
              "    <tr style=\"text-align: right;\">\n",
              "      <th></th>\n",
              "      <th>Condition1</th>\n",
              "    </tr>\n",
              "  </thead>\n",
              "  <tbody>\n",
              "    <tr>\n",
              "      <th>51</th>\n",
              "      <td>Norm</td>\n",
              "    </tr>\n",
              "    <tr>\n",
              "      <th>294</th>\n",
              "      <td>Norm</td>\n",
              "    </tr>\n",
              "    <tr>\n",
              "      <th>696</th>\n",
              "      <td>Norm</td>\n",
              "    </tr>\n",
              "    <tr>\n",
              "      <th>1033</th>\n",
              "      <td>Norm</td>\n",
              "    </tr>\n",
              "    <tr>\n",
              "      <th>375</th>\n",
              "      <td>Norm</td>\n",
              "    </tr>\n",
              "    <tr>\n",
              "      <th>...</th>\n",
              "      <td>...</td>\n",
              "    </tr>\n",
              "    <tr>\n",
              "      <th>1327</th>\n",
              "      <td>Norm</td>\n",
              "    </tr>\n",
              "    <tr>\n",
              "      <th>359</th>\n",
              "      <td>Norm</td>\n",
              "    </tr>\n",
              "    <tr>\n",
              "      <th>1336</th>\n",
              "      <td>Feedr</td>\n",
              "    </tr>\n",
              "    <tr>\n",
              "      <th>1450</th>\n",
              "      <td>Norm</td>\n",
              "    </tr>\n",
              "    <tr>\n",
              "      <th>563</th>\n",
              "      <td>Norm</td>\n",
              "    </tr>\n",
              "  </tbody>\n",
              "</table>\n",
              "<p>284 rows × 1 columns</p>\n",
              "</div><br><label><b>dtype:</b> object</label>"
            ]
          },
          "metadata": {},
          "execution_count": 46
        }
      ]
    },
    {
      "cell_type": "code",
      "source": [
        "\n",
        "X_val['Exterior'] = X_val['Exterior1st']+X_val['Exterior2nd']\n",
        "X_val = X_val.drop(columns=['Exterior2nd', 'Exterior1st'])\n",
        "X_val['Condition'] = X_val['Condition1']+X_val['Condition2']\n",
        "X_val = X_val.drop(columns=['Condition1', 'Condition2'])"
      ],
      "metadata": {
        "id": "KdETRpbkouso"
      },
      "execution_count": 47,
      "outputs": []
    },
    {
      "cell_type": "markdown",
      "source": [
        "#### test"
      ],
      "metadata": {
        "id": "4xtGRjPUof8X"
      }
    },
    {
      "cell_type": "code",
      "execution_count": 48,
      "metadata": {
        "id": "GzPOgrUpGZ87"
      },
      "outputs": [],
      "source": [
        "test['Exterior'] = test['Exterior1st']+test['Exterior2nd']\n",
        "test = test.drop(columns=['Exterior2nd', 'Exterior1st'])"
      ]
    },
    {
      "cell_type": "code",
      "execution_count": 49,
      "metadata": {
        "id": "1hdUxWrXJ8_1"
      },
      "outputs": [],
      "source": [
        "test['Condition'] = test['Condition1']+test['Condition2']\n",
        "test = test.drop(columns=['Condition1', 'Condition2'])"
      ]
    },
    {
      "cell_type": "markdown",
      "source": [
        "### Категориальные и числовые столбцы"
      ],
      "metadata": {
        "id": "NUheVYR1nraQ"
      }
    },
    {
      "cell_type": "code",
      "execution_count": 50,
      "metadata": {
        "id": "gqBtJQ3oILxH"
      },
      "outputs": [],
      "source": [
        "categorical_cols = X_train.select_dtypes(include=['object']).columns\n",
        "numerical_cols = X_train.select_dtypes(include=['float64', 'int64']).columns"
      ]
    },
    {
      "cell_type": "markdown",
      "source": [
        "###  SimpleImputer + OHE"
      ],
      "metadata": {
        "id": "8DCz4OjRn2TN"
      }
    },
    {
      "cell_type": "code",
      "source": [
        "# SimpleImputer + OHE\n",
        "ohe_pipe = Pipeline(\n",
        "    [\n",
        "        (\n",
        "            'imputer',\n",
        "            SimpleImputer(missing_values=np.nan, strategy='most_frequent')\n",
        "        ),\n",
        "        (\n",
        "            'ohe',\n",
        "            OneHotEncoder(drop='first', handle_unknown='ignore')\n",
        "        )\n",
        "    ]\n",
        ")"
      ],
      "metadata": {
        "id": "jandqBe6ktYa"
      },
      "execution_count": 51,
      "outputs": []
    },
    {
      "cell_type": "markdown",
      "source": [
        "### ColumnTransformer"
      ],
      "metadata": {
        "id": "TBTu47GFn5xD"
      }
    },
    {
      "cell_type": "code",
      "execution_count": 52,
      "metadata": {
        "id": "V8-gCax8IMCO"
      },
      "outputs": [],
      "source": [
        "# создаём общий пайплайн для подготовки данных\n",
        "data_preprocessor = ColumnTransformer(\n",
        "    [\n",
        "\n",
        "        ('ohe', ohe_pipe, categorical_cols),\n",
        "        ('num', StandardScaler(), numerical_cols)\n",
        "    ],\n",
        "    remainder='passthrough'\n",
        ")"
      ]
    },
    {
      "cell_type": "markdown",
      "source": [
        "### Pipeline"
      ],
      "metadata": {
        "id": "LZ2dzbzFn89l"
      }
    },
    {
      "cell_type": "code",
      "execution_count": 53,
      "metadata": {
        "id": "HL_umy8BIMCP"
      },
      "outputs": [],
      "source": [
        "# итоговый пайплайн: подготовка данных и модель\n",
        "pipe_final = Pipeline(\n",
        "    [\n",
        "        ('preprocessor', data_preprocessor),\n",
        "        ('models', DecisionTreeRegressor(random_state=12345))\n",
        "    ]\n",
        ")"
      ]
    },
    {
      "cell_type": "markdown",
      "source": [
        "### param_distributions"
      ],
      "metadata": {
        "id": "5NLEQa4woAS6"
      }
    },
    {
      "cell_type": "code",
      "source": [
        "# убирает выводы при обучении модели verbose=False\n",
        "param_distributions = [\n",
        "\n",
        "    {\n",
        "        'models': [CatBoostRegressor(task_type=\"GPU\",verbose=False)],\n",
        "        'models__learning_rate':(0.1,1),\n",
        "        'models__max_depth': range(2, 8, 2),\n",
        "        'models__n_estimators':range(200,800,200)\n",
        "\n",
        "    }\n",
        "\n",
        "]"
      ],
      "metadata": {
        "id": "6GyjtoLuo1BI"
      },
      "execution_count": 54,
      "outputs": []
    },
    {
      "cell_type": "markdown",
      "source": [
        "### GridSearchCV"
      ],
      "metadata": {
        "id": "FpZhhaJeoFeX"
      }
    },
    {
      "cell_type": "code",
      "execution_count": 56,
      "metadata": {
        "colab": {
          "base_uri": "https://localhost:8080/",
          "height": 318
        },
        "id": "Xs__9tYkIMCQ",
        "outputId": "47f2f282-9f62-44ea-dc10-eefcb104826c"
      },
      "outputs": [
        {
          "output_type": "execute_result",
          "data": {
            "text/plain": [
              "GridSearchCV(cv=3,\n",
              "             estimator=Pipeline(steps=[('preprocessor',\n",
              "                                        ColumnTransformer(remainder='passthrough',\n",
              "                                                          transformers=[('ohe',\n",
              "                                                                         Pipeline(steps=[('imputer',\n",
              "                                                                                          SimpleImputer(strategy='most_frequent')),\n",
              "                                                                                         ('ohe',\n",
              "                                                                                          OneHotEncoder(drop='first',\n",
              "                                                                                                        handle_unknown='ignore'))]),\n",
              "                                                                         Index(['MSZoning', 'Street', 'LotShape', 'LandContour', 'Utilities',\n",
              "       'LotConfig', 'LandSlope', 'Neighbor...\n",
              "       'EnclosedPorch', '3SsnPorch', 'ScreenPorch', 'PoolArea', 'MiscVal',\n",
              "       'MoSold', 'YrSold'],\n",
              "      dtype='object'))])),\n",
              "                                       ('models',\n",
              "                                        DecisionTreeRegressor(random_state=12345))]),\n",
              "             n_jobs=-1,\n",
              "             param_grid=[{'models': [<catboost.core.CatBoostRegressor object at 0x7fbdcc183c10>],\n",
              "                          'models__learning_rate': (0.1, 1),\n",
              "                          'models__max_depth': range(2, 8, 2),\n",
              "                          'models__n_estimators': range(200, 800, 200)}],\n",
              "             scoring='neg_mean_absolute_error')"
            ],
            "text/html": [
              "<style>#sk-container-id-1 {\n",
              "  /* Definition of color scheme common for light and dark mode */\n",
              "  --sklearn-color-text: #000;\n",
              "  --sklearn-color-text-muted: #666;\n",
              "  --sklearn-color-line: gray;\n",
              "  /* Definition of color scheme for unfitted estimators */\n",
              "  --sklearn-color-unfitted-level-0: #fff5e6;\n",
              "  --sklearn-color-unfitted-level-1: #f6e4d2;\n",
              "  --sklearn-color-unfitted-level-2: #ffe0b3;\n",
              "  --sklearn-color-unfitted-level-3: chocolate;\n",
              "  /* Definition of color scheme for fitted estimators */\n",
              "  --sklearn-color-fitted-level-0: #f0f8ff;\n",
              "  --sklearn-color-fitted-level-1: #d4ebff;\n",
              "  --sklearn-color-fitted-level-2: #b3dbfd;\n",
              "  --sklearn-color-fitted-level-3: cornflowerblue;\n",
              "\n",
              "  /* Specific color for light theme */\n",
              "  --sklearn-color-text-on-default-background: var(--sg-text-color, var(--theme-code-foreground, var(--jp-content-font-color1, black)));\n",
              "  --sklearn-color-background: var(--sg-background-color, var(--theme-background, var(--jp-layout-color0, white)));\n",
              "  --sklearn-color-border-box: var(--sg-text-color, var(--theme-code-foreground, var(--jp-content-font-color1, black)));\n",
              "  --sklearn-color-icon: #696969;\n",
              "\n",
              "  @media (prefers-color-scheme: dark) {\n",
              "    /* Redefinition of color scheme for dark theme */\n",
              "    --sklearn-color-text-on-default-background: var(--sg-text-color, var(--theme-code-foreground, var(--jp-content-font-color1, white)));\n",
              "    --sklearn-color-background: var(--sg-background-color, var(--theme-background, var(--jp-layout-color0, #111)));\n",
              "    --sklearn-color-border-box: var(--sg-text-color, var(--theme-code-foreground, var(--jp-content-font-color1, white)));\n",
              "    --sklearn-color-icon: #878787;\n",
              "  }\n",
              "}\n",
              "\n",
              "#sk-container-id-1 {\n",
              "  color: var(--sklearn-color-text);\n",
              "}\n",
              "\n",
              "#sk-container-id-1 pre {\n",
              "  padding: 0;\n",
              "}\n",
              "\n",
              "#sk-container-id-1 input.sk-hidden--visually {\n",
              "  border: 0;\n",
              "  clip: rect(1px 1px 1px 1px);\n",
              "  clip: rect(1px, 1px, 1px, 1px);\n",
              "  height: 1px;\n",
              "  margin: -1px;\n",
              "  overflow: hidden;\n",
              "  padding: 0;\n",
              "  position: absolute;\n",
              "  width: 1px;\n",
              "}\n",
              "\n",
              "#sk-container-id-1 div.sk-dashed-wrapped {\n",
              "  border: 1px dashed var(--sklearn-color-line);\n",
              "  margin: 0 0.4em 0.5em 0.4em;\n",
              "  box-sizing: border-box;\n",
              "  padding-bottom: 0.4em;\n",
              "  background-color: var(--sklearn-color-background);\n",
              "}\n",
              "\n",
              "#sk-container-id-1 div.sk-container {\n",
              "  /* jupyter's `normalize.less` sets `[hidden] { display: none; }`\n",
              "     but bootstrap.min.css set `[hidden] { display: none !important; }`\n",
              "     so we also need the `!important` here to be able to override the\n",
              "     default hidden behavior on the sphinx rendered scikit-learn.org.\n",
              "     See: https://github.com/scikit-learn/scikit-learn/issues/21755 */\n",
              "  display: inline-block !important;\n",
              "  position: relative;\n",
              "}\n",
              "\n",
              "#sk-container-id-1 div.sk-text-repr-fallback {\n",
              "  display: none;\n",
              "}\n",
              "\n",
              "div.sk-parallel-item,\n",
              "div.sk-serial,\n",
              "div.sk-item {\n",
              "  /* draw centered vertical line to link estimators */\n",
              "  background-image: linear-gradient(var(--sklearn-color-text-on-default-background), var(--sklearn-color-text-on-default-background));\n",
              "  background-size: 2px 100%;\n",
              "  background-repeat: no-repeat;\n",
              "  background-position: center center;\n",
              "}\n",
              "\n",
              "/* Parallel-specific style estimator block */\n",
              "\n",
              "#sk-container-id-1 div.sk-parallel-item::after {\n",
              "  content: \"\";\n",
              "  width: 100%;\n",
              "  border-bottom: 2px solid var(--sklearn-color-text-on-default-background);\n",
              "  flex-grow: 1;\n",
              "}\n",
              "\n",
              "#sk-container-id-1 div.sk-parallel {\n",
              "  display: flex;\n",
              "  align-items: stretch;\n",
              "  justify-content: center;\n",
              "  background-color: var(--sklearn-color-background);\n",
              "  position: relative;\n",
              "}\n",
              "\n",
              "#sk-container-id-1 div.sk-parallel-item {\n",
              "  display: flex;\n",
              "  flex-direction: column;\n",
              "}\n",
              "\n",
              "#sk-container-id-1 div.sk-parallel-item:first-child::after {\n",
              "  align-self: flex-end;\n",
              "  width: 50%;\n",
              "}\n",
              "\n",
              "#sk-container-id-1 div.sk-parallel-item:last-child::after {\n",
              "  align-self: flex-start;\n",
              "  width: 50%;\n",
              "}\n",
              "\n",
              "#sk-container-id-1 div.sk-parallel-item:only-child::after {\n",
              "  width: 0;\n",
              "}\n",
              "\n",
              "/* Serial-specific style estimator block */\n",
              "\n",
              "#sk-container-id-1 div.sk-serial {\n",
              "  display: flex;\n",
              "  flex-direction: column;\n",
              "  align-items: center;\n",
              "  background-color: var(--sklearn-color-background);\n",
              "  padding-right: 1em;\n",
              "  padding-left: 1em;\n",
              "}\n",
              "\n",
              "\n",
              "/* Toggleable style: style used for estimator/Pipeline/ColumnTransformer box that is\n",
              "clickable and can be expanded/collapsed.\n",
              "- Pipeline and ColumnTransformer use this feature and define the default style\n",
              "- Estimators will overwrite some part of the style using the `sk-estimator` class\n",
              "*/\n",
              "\n",
              "/* Pipeline and ColumnTransformer style (default) */\n",
              "\n",
              "#sk-container-id-1 div.sk-toggleable {\n",
              "  /* Default theme specific background. It is overwritten whether we have a\n",
              "  specific estimator or a Pipeline/ColumnTransformer */\n",
              "  background-color: var(--sklearn-color-background);\n",
              "}\n",
              "\n",
              "/* Toggleable label */\n",
              "#sk-container-id-1 label.sk-toggleable__label {\n",
              "  cursor: pointer;\n",
              "  display: flex;\n",
              "  width: 100%;\n",
              "  margin-bottom: 0;\n",
              "  padding: 0.5em;\n",
              "  box-sizing: border-box;\n",
              "  text-align: center;\n",
              "  align-items: start;\n",
              "  justify-content: space-between;\n",
              "  gap: 0.5em;\n",
              "}\n",
              "\n",
              "#sk-container-id-1 label.sk-toggleable__label .caption {\n",
              "  font-size: 0.6rem;\n",
              "  font-weight: lighter;\n",
              "  color: var(--sklearn-color-text-muted);\n",
              "}\n",
              "\n",
              "#sk-container-id-1 label.sk-toggleable__label-arrow:before {\n",
              "  /* Arrow on the left of the label */\n",
              "  content: \"▸\";\n",
              "  float: left;\n",
              "  margin-right: 0.25em;\n",
              "  color: var(--sklearn-color-icon);\n",
              "}\n",
              "\n",
              "#sk-container-id-1 label.sk-toggleable__label-arrow:hover:before {\n",
              "  color: var(--sklearn-color-text);\n",
              "}\n",
              "\n",
              "/* Toggleable content - dropdown */\n",
              "\n",
              "#sk-container-id-1 div.sk-toggleable__content {\n",
              "  max-height: 0;\n",
              "  max-width: 0;\n",
              "  overflow: hidden;\n",
              "  text-align: left;\n",
              "  /* unfitted */\n",
              "  background-color: var(--sklearn-color-unfitted-level-0);\n",
              "}\n",
              "\n",
              "#sk-container-id-1 div.sk-toggleable__content.fitted {\n",
              "  /* fitted */\n",
              "  background-color: var(--sklearn-color-fitted-level-0);\n",
              "}\n",
              "\n",
              "#sk-container-id-1 div.sk-toggleable__content pre {\n",
              "  margin: 0.2em;\n",
              "  border-radius: 0.25em;\n",
              "  color: var(--sklearn-color-text);\n",
              "  /* unfitted */\n",
              "  background-color: var(--sklearn-color-unfitted-level-0);\n",
              "}\n",
              "\n",
              "#sk-container-id-1 div.sk-toggleable__content.fitted pre {\n",
              "  /* unfitted */\n",
              "  background-color: var(--sklearn-color-fitted-level-0);\n",
              "}\n",
              "\n",
              "#sk-container-id-1 input.sk-toggleable__control:checked~div.sk-toggleable__content {\n",
              "  /* Expand drop-down */\n",
              "  max-height: 200px;\n",
              "  max-width: 100%;\n",
              "  overflow: auto;\n",
              "}\n",
              "\n",
              "#sk-container-id-1 input.sk-toggleable__control:checked~label.sk-toggleable__label-arrow:before {\n",
              "  content: \"▾\";\n",
              "}\n",
              "\n",
              "/* Pipeline/ColumnTransformer-specific style */\n",
              "\n",
              "#sk-container-id-1 div.sk-label input.sk-toggleable__control:checked~label.sk-toggleable__label {\n",
              "  color: var(--sklearn-color-text);\n",
              "  background-color: var(--sklearn-color-unfitted-level-2);\n",
              "}\n",
              "\n",
              "#sk-container-id-1 div.sk-label.fitted input.sk-toggleable__control:checked~label.sk-toggleable__label {\n",
              "  background-color: var(--sklearn-color-fitted-level-2);\n",
              "}\n",
              "\n",
              "/* Estimator-specific style */\n",
              "\n",
              "/* Colorize estimator box */\n",
              "#sk-container-id-1 div.sk-estimator input.sk-toggleable__control:checked~label.sk-toggleable__label {\n",
              "  /* unfitted */\n",
              "  background-color: var(--sklearn-color-unfitted-level-2);\n",
              "}\n",
              "\n",
              "#sk-container-id-1 div.sk-estimator.fitted input.sk-toggleable__control:checked~label.sk-toggleable__label {\n",
              "  /* fitted */\n",
              "  background-color: var(--sklearn-color-fitted-level-2);\n",
              "}\n",
              "\n",
              "#sk-container-id-1 div.sk-label label.sk-toggleable__label,\n",
              "#sk-container-id-1 div.sk-label label {\n",
              "  /* The background is the default theme color */\n",
              "  color: var(--sklearn-color-text-on-default-background);\n",
              "}\n",
              "\n",
              "/* On hover, darken the color of the background */\n",
              "#sk-container-id-1 div.sk-label:hover label.sk-toggleable__label {\n",
              "  color: var(--sklearn-color-text);\n",
              "  background-color: var(--sklearn-color-unfitted-level-2);\n",
              "}\n",
              "\n",
              "/* Label box, darken color on hover, fitted */\n",
              "#sk-container-id-1 div.sk-label.fitted:hover label.sk-toggleable__label.fitted {\n",
              "  color: var(--sklearn-color-text);\n",
              "  background-color: var(--sklearn-color-fitted-level-2);\n",
              "}\n",
              "\n",
              "/* Estimator label */\n",
              "\n",
              "#sk-container-id-1 div.sk-label label {\n",
              "  font-family: monospace;\n",
              "  font-weight: bold;\n",
              "  display: inline-block;\n",
              "  line-height: 1.2em;\n",
              "}\n",
              "\n",
              "#sk-container-id-1 div.sk-label-container {\n",
              "  text-align: center;\n",
              "}\n",
              "\n",
              "/* Estimator-specific */\n",
              "#sk-container-id-1 div.sk-estimator {\n",
              "  font-family: monospace;\n",
              "  border: 1px dotted var(--sklearn-color-border-box);\n",
              "  border-radius: 0.25em;\n",
              "  box-sizing: border-box;\n",
              "  margin-bottom: 0.5em;\n",
              "  /* unfitted */\n",
              "  background-color: var(--sklearn-color-unfitted-level-0);\n",
              "}\n",
              "\n",
              "#sk-container-id-1 div.sk-estimator.fitted {\n",
              "  /* fitted */\n",
              "  background-color: var(--sklearn-color-fitted-level-0);\n",
              "}\n",
              "\n",
              "/* on hover */\n",
              "#sk-container-id-1 div.sk-estimator:hover {\n",
              "  /* unfitted */\n",
              "  background-color: var(--sklearn-color-unfitted-level-2);\n",
              "}\n",
              "\n",
              "#sk-container-id-1 div.sk-estimator.fitted:hover {\n",
              "  /* fitted */\n",
              "  background-color: var(--sklearn-color-fitted-level-2);\n",
              "}\n",
              "\n",
              "/* Specification for estimator info (e.g. \"i\" and \"?\") */\n",
              "\n",
              "/* Common style for \"i\" and \"?\" */\n",
              "\n",
              ".sk-estimator-doc-link,\n",
              "a:link.sk-estimator-doc-link,\n",
              "a:visited.sk-estimator-doc-link {\n",
              "  float: right;\n",
              "  font-size: smaller;\n",
              "  line-height: 1em;\n",
              "  font-family: monospace;\n",
              "  background-color: var(--sklearn-color-background);\n",
              "  border-radius: 1em;\n",
              "  height: 1em;\n",
              "  width: 1em;\n",
              "  text-decoration: none !important;\n",
              "  margin-left: 0.5em;\n",
              "  text-align: center;\n",
              "  /* unfitted */\n",
              "  border: var(--sklearn-color-unfitted-level-1) 1pt solid;\n",
              "  color: var(--sklearn-color-unfitted-level-1);\n",
              "}\n",
              "\n",
              ".sk-estimator-doc-link.fitted,\n",
              "a:link.sk-estimator-doc-link.fitted,\n",
              "a:visited.sk-estimator-doc-link.fitted {\n",
              "  /* fitted */\n",
              "  border: var(--sklearn-color-fitted-level-1) 1pt solid;\n",
              "  color: var(--sklearn-color-fitted-level-1);\n",
              "}\n",
              "\n",
              "/* On hover */\n",
              "div.sk-estimator:hover .sk-estimator-doc-link:hover,\n",
              ".sk-estimator-doc-link:hover,\n",
              "div.sk-label-container:hover .sk-estimator-doc-link:hover,\n",
              ".sk-estimator-doc-link:hover {\n",
              "  /* unfitted */\n",
              "  background-color: var(--sklearn-color-unfitted-level-3);\n",
              "  color: var(--sklearn-color-background);\n",
              "  text-decoration: none;\n",
              "}\n",
              "\n",
              "div.sk-estimator.fitted:hover .sk-estimator-doc-link.fitted:hover,\n",
              ".sk-estimator-doc-link.fitted:hover,\n",
              "div.sk-label-container:hover .sk-estimator-doc-link.fitted:hover,\n",
              ".sk-estimator-doc-link.fitted:hover {\n",
              "  /* fitted */\n",
              "  background-color: var(--sklearn-color-fitted-level-3);\n",
              "  color: var(--sklearn-color-background);\n",
              "  text-decoration: none;\n",
              "}\n",
              "\n",
              "/* Span, style for the box shown on hovering the info icon */\n",
              ".sk-estimator-doc-link span {\n",
              "  display: none;\n",
              "  z-index: 9999;\n",
              "  position: relative;\n",
              "  font-weight: normal;\n",
              "  right: .2ex;\n",
              "  padding: .5ex;\n",
              "  margin: .5ex;\n",
              "  width: min-content;\n",
              "  min-width: 20ex;\n",
              "  max-width: 50ex;\n",
              "  color: var(--sklearn-color-text);\n",
              "  box-shadow: 2pt 2pt 4pt #999;\n",
              "  /* unfitted */\n",
              "  background: var(--sklearn-color-unfitted-level-0);\n",
              "  border: .5pt solid var(--sklearn-color-unfitted-level-3);\n",
              "}\n",
              "\n",
              ".sk-estimator-doc-link.fitted span {\n",
              "  /* fitted */\n",
              "  background: var(--sklearn-color-fitted-level-0);\n",
              "  border: var(--sklearn-color-fitted-level-3);\n",
              "}\n",
              "\n",
              ".sk-estimator-doc-link:hover span {\n",
              "  display: block;\n",
              "}\n",
              "\n",
              "/* \"?\"-specific style due to the `<a>` HTML tag */\n",
              "\n",
              "#sk-container-id-1 a.estimator_doc_link {\n",
              "  float: right;\n",
              "  font-size: 1rem;\n",
              "  line-height: 1em;\n",
              "  font-family: monospace;\n",
              "  background-color: var(--sklearn-color-background);\n",
              "  border-radius: 1rem;\n",
              "  height: 1rem;\n",
              "  width: 1rem;\n",
              "  text-decoration: none;\n",
              "  /* unfitted */\n",
              "  color: var(--sklearn-color-unfitted-level-1);\n",
              "  border: var(--sklearn-color-unfitted-level-1) 1pt solid;\n",
              "}\n",
              "\n",
              "#sk-container-id-1 a.estimator_doc_link.fitted {\n",
              "  /* fitted */\n",
              "  border: var(--sklearn-color-fitted-level-1) 1pt solid;\n",
              "  color: var(--sklearn-color-fitted-level-1);\n",
              "}\n",
              "\n",
              "/* On hover */\n",
              "#sk-container-id-1 a.estimator_doc_link:hover {\n",
              "  /* unfitted */\n",
              "  background-color: var(--sklearn-color-unfitted-level-3);\n",
              "  color: var(--sklearn-color-background);\n",
              "  text-decoration: none;\n",
              "}\n",
              "\n",
              "#sk-container-id-1 a.estimator_doc_link.fitted:hover {\n",
              "  /* fitted */\n",
              "  background-color: var(--sklearn-color-fitted-level-3);\n",
              "}\n",
              "</style><div id=\"sk-container-id-1\" class=\"sk-top-container\"><div class=\"sk-text-repr-fallback\"><pre>GridSearchCV(cv=3,\n",
              "             estimator=Pipeline(steps=[(&#x27;preprocessor&#x27;,\n",
              "                                        ColumnTransformer(remainder=&#x27;passthrough&#x27;,\n",
              "                                                          transformers=[(&#x27;ohe&#x27;,\n",
              "                                                                         Pipeline(steps=[(&#x27;imputer&#x27;,\n",
              "                                                                                          SimpleImputer(strategy=&#x27;most_frequent&#x27;)),\n",
              "                                                                                         (&#x27;ohe&#x27;,\n",
              "                                                                                          OneHotEncoder(drop=&#x27;first&#x27;,\n",
              "                                                                                                        handle_unknown=&#x27;ignore&#x27;))]),\n",
              "                                                                         Index([&#x27;MSZoning&#x27;, &#x27;Street&#x27;, &#x27;LotShape&#x27;, &#x27;LandContour&#x27;, &#x27;Utilities&#x27;,\n",
              "       &#x27;LotConfig&#x27;, &#x27;LandSlope&#x27;, &#x27;Neighbor...\n",
              "       &#x27;EnclosedPorch&#x27;, &#x27;3SsnPorch&#x27;, &#x27;ScreenPorch&#x27;, &#x27;PoolArea&#x27;, &#x27;MiscVal&#x27;,\n",
              "       &#x27;MoSold&#x27;, &#x27;YrSold&#x27;],\n",
              "      dtype=&#x27;object&#x27;))])),\n",
              "                                       (&#x27;models&#x27;,\n",
              "                                        DecisionTreeRegressor(random_state=12345))]),\n",
              "             n_jobs=-1,\n",
              "             param_grid=[{&#x27;models&#x27;: [&lt;catboost.core.CatBoostRegressor object at 0x7fbdcc183c10&gt;],\n",
              "                          &#x27;models__learning_rate&#x27;: (0.1, 1),\n",
              "                          &#x27;models__max_depth&#x27;: range(2, 8, 2),\n",
              "                          &#x27;models__n_estimators&#x27;: range(200, 800, 200)}],\n",
              "             scoring=&#x27;neg_mean_absolute_error&#x27;)</pre><b>In a Jupyter environment, please rerun this cell to show the HTML representation or trust the notebook. <br />On GitHub, the HTML representation is unable to render, please try loading this page with nbviewer.org.</b></div><div class=\"sk-container\" hidden><div class=\"sk-item sk-dashed-wrapped\"><div class=\"sk-label-container\"><div class=\"sk-label fitted sk-toggleable\"><input class=\"sk-toggleable__control sk-hidden--visually\" id=\"sk-estimator-id-1\" type=\"checkbox\" ><label for=\"sk-estimator-id-1\" class=\"sk-toggleable__label fitted sk-toggleable__label-arrow\"><div><div>GridSearchCV</div></div><div><a class=\"sk-estimator-doc-link fitted\" rel=\"noreferrer\" target=\"_blank\" href=\"https://scikit-learn.org/1.6/modules/generated/sklearn.model_selection.GridSearchCV.html\">?<span>Documentation for GridSearchCV</span></a><span class=\"sk-estimator-doc-link fitted\">i<span>Fitted</span></span></div></label><div class=\"sk-toggleable__content fitted\"><pre>GridSearchCV(cv=3,\n",
              "             estimator=Pipeline(steps=[(&#x27;preprocessor&#x27;,\n",
              "                                        ColumnTransformer(remainder=&#x27;passthrough&#x27;,\n",
              "                                                          transformers=[(&#x27;ohe&#x27;,\n",
              "                                                                         Pipeline(steps=[(&#x27;imputer&#x27;,\n",
              "                                                                                          SimpleImputer(strategy=&#x27;most_frequent&#x27;)),\n",
              "                                                                                         (&#x27;ohe&#x27;,\n",
              "                                                                                          OneHotEncoder(drop=&#x27;first&#x27;,\n",
              "                                                                                                        handle_unknown=&#x27;ignore&#x27;))]),\n",
              "                                                                         Index([&#x27;MSZoning&#x27;, &#x27;Street&#x27;, &#x27;LotShape&#x27;, &#x27;LandContour&#x27;, &#x27;Utilities&#x27;,\n",
              "       &#x27;LotConfig&#x27;, &#x27;LandSlope&#x27;, &#x27;Neighbor...\n",
              "       &#x27;EnclosedPorch&#x27;, &#x27;3SsnPorch&#x27;, &#x27;ScreenPorch&#x27;, &#x27;PoolArea&#x27;, &#x27;MiscVal&#x27;,\n",
              "       &#x27;MoSold&#x27;, &#x27;YrSold&#x27;],\n",
              "      dtype=&#x27;object&#x27;))])),\n",
              "                                       (&#x27;models&#x27;,\n",
              "                                        DecisionTreeRegressor(random_state=12345))]),\n",
              "             n_jobs=-1,\n",
              "             param_grid=[{&#x27;models&#x27;: [&lt;catboost.core.CatBoostRegressor object at 0x7fbdcc183c10&gt;],\n",
              "                          &#x27;models__learning_rate&#x27;: (0.1, 1),\n",
              "                          &#x27;models__max_depth&#x27;: range(2, 8, 2),\n",
              "                          &#x27;models__n_estimators&#x27;: range(200, 800, 200)}],\n",
              "             scoring=&#x27;neg_mean_absolute_error&#x27;)</pre></div> </div></div><div class=\"sk-parallel\"><div class=\"sk-parallel-item\"><div class=\"sk-item\"><div class=\"sk-label-container\"><div class=\"sk-label fitted sk-toggleable\"><input class=\"sk-toggleable__control sk-hidden--visually\" id=\"sk-estimator-id-2\" type=\"checkbox\" ><label for=\"sk-estimator-id-2\" class=\"sk-toggleable__label fitted sk-toggleable__label-arrow\"><div><div>best_estimator_: Pipeline</div></div></label><div class=\"sk-toggleable__content fitted\"><pre>Pipeline(steps=[(&#x27;preprocessor&#x27;,\n",
              "                 ColumnTransformer(remainder=&#x27;passthrough&#x27;,\n",
              "                                   transformers=[(&#x27;ohe&#x27;,\n",
              "                                                  Pipeline(steps=[(&#x27;imputer&#x27;,\n",
              "                                                                   SimpleImputer(strategy=&#x27;most_frequent&#x27;)),\n",
              "                                                                  (&#x27;ohe&#x27;,\n",
              "                                                                   OneHotEncoder(drop=&#x27;first&#x27;,\n",
              "                                                                                 handle_unknown=&#x27;ignore&#x27;))]),\n",
              "                                                  Index([&#x27;MSZoning&#x27;, &#x27;Street&#x27;, &#x27;LotShape&#x27;, &#x27;LandContour&#x27;, &#x27;Utilities&#x27;,\n",
              "       &#x27;LotConfig&#x27;, &#x27;LandSlope&#x27;, &#x27;Neighborhood&#x27;, &#x27;BldgType&#x27;, &#x27;HouseStyle...\n",
              "       &#x27;GrLivArea&#x27;, &#x27;BsmtFullBath&#x27;, &#x27;BsmtHalfBath&#x27;, &#x27;FullBath&#x27;, &#x27;HalfBath&#x27;,\n",
              "       &#x27;BedroomAbvGr&#x27;, &#x27;KitchenAbvGr&#x27;, &#x27;TotRmsAbvGrd&#x27;, &#x27;Fireplaces&#x27;,\n",
              "       &#x27;GarageYrBlt&#x27;, &#x27;GarageCars&#x27;, &#x27;GarageArea&#x27;, &#x27;WoodDeckSF&#x27;, &#x27;OpenPorchSF&#x27;,\n",
              "       &#x27;EnclosedPorch&#x27;, &#x27;3SsnPorch&#x27;, &#x27;ScreenPorch&#x27;, &#x27;PoolArea&#x27;, &#x27;MiscVal&#x27;,\n",
              "       &#x27;MoSold&#x27;, &#x27;YrSold&#x27;],\n",
              "      dtype=&#x27;object&#x27;))])),\n",
              "                (&#x27;models&#x27;,\n",
              "                 &lt;catboost.core.CatBoostRegressor object at 0x7fbdcc1ae010&gt;)])</pre></div> </div></div><div class=\"sk-serial\"><div class=\"sk-item\"><div class=\"sk-serial\"><div class=\"sk-item sk-dashed-wrapped\"><div class=\"sk-label-container\"><div class=\"sk-label fitted sk-toggleable\"><input class=\"sk-toggleable__control sk-hidden--visually\" id=\"sk-estimator-id-3\" type=\"checkbox\" ><label for=\"sk-estimator-id-3\" class=\"sk-toggleable__label fitted sk-toggleable__label-arrow\"><div><div>preprocessor: ColumnTransformer</div></div><div><a class=\"sk-estimator-doc-link fitted\" rel=\"noreferrer\" target=\"_blank\" href=\"https://scikit-learn.org/1.6/modules/generated/sklearn.compose.ColumnTransformer.html\">?<span>Documentation for preprocessor: ColumnTransformer</span></a></div></label><div class=\"sk-toggleable__content fitted\"><pre>ColumnTransformer(remainder=&#x27;passthrough&#x27;,\n",
              "                  transformers=[(&#x27;ohe&#x27;,\n",
              "                                 Pipeline(steps=[(&#x27;imputer&#x27;,\n",
              "                                                  SimpleImputer(strategy=&#x27;most_frequent&#x27;)),\n",
              "                                                 (&#x27;ohe&#x27;,\n",
              "                                                  OneHotEncoder(drop=&#x27;first&#x27;,\n",
              "                                                                handle_unknown=&#x27;ignore&#x27;))]),\n",
              "                                 Index([&#x27;MSZoning&#x27;, &#x27;Street&#x27;, &#x27;LotShape&#x27;, &#x27;LandContour&#x27;, &#x27;Utilities&#x27;,\n",
              "       &#x27;LotConfig&#x27;, &#x27;LandSlope&#x27;, &#x27;Neighborhood&#x27;, &#x27;BldgType&#x27;, &#x27;HouseStyle&#x27;,\n",
              "       &#x27;RoofStyle&#x27;, &#x27;RoofMatl&#x27;, &#x27;MasVnr...\n",
              "       &#x27;BsmtUnfSF&#x27;, &#x27;TotalBsmtSF&#x27;, &#x27;1stFlrSF&#x27;, &#x27;2ndFlrSF&#x27;, &#x27;LowQualFinSF&#x27;,\n",
              "       &#x27;GrLivArea&#x27;, &#x27;BsmtFullBath&#x27;, &#x27;BsmtHalfBath&#x27;, &#x27;FullBath&#x27;, &#x27;HalfBath&#x27;,\n",
              "       &#x27;BedroomAbvGr&#x27;, &#x27;KitchenAbvGr&#x27;, &#x27;TotRmsAbvGrd&#x27;, &#x27;Fireplaces&#x27;,\n",
              "       &#x27;GarageYrBlt&#x27;, &#x27;GarageCars&#x27;, &#x27;GarageArea&#x27;, &#x27;WoodDeckSF&#x27;, &#x27;OpenPorchSF&#x27;,\n",
              "       &#x27;EnclosedPorch&#x27;, &#x27;3SsnPorch&#x27;, &#x27;ScreenPorch&#x27;, &#x27;PoolArea&#x27;, &#x27;MiscVal&#x27;,\n",
              "       &#x27;MoSold&#x27;, &#x27;YrSold&#x27;],\n",
              "      dtype=&#x27;object&#x27;))])</pre></div> </div></div><div class=\"sk-parallel\"><div class=\"sk-parallel-item\"><div class=\"sk-item\"><div class=\"sk-label-container\"><div class=\"sk-label fitted sk-toggleable\"><input class=\"sk-toggleable__control sk-hidden--visually\" id=\"sk-estimator-id-4\" type=\"checkbox\" ><label for=\"sk-estimator-id-4\" class=\"sk-toggleable__label fitted sk-toggleable__label-arrow\"><div><div>ohe</div></div></label><div class=\"sk-toggleable__content fitted\"><pre>Index([&#x27;MSZoning&#x27;, &#x27;Street&#x27;, &#x27;LotShape&#x27;, &#x27;LandContour&#x27;, &#x27;Utilities&#x27;,\n",
              "       &#x27;LotConfig&#x27;, &#x27;LandSlope&#x27;, &#x27;Neighborhood&#x27;, &#x27;BldgType&#x27;, &#x27;HouseStyle&#x27;,\n",
              "       &#x27;RoofStyle&#x27;, &#x27;RoofMatl&#x27;, &#x27;MasVnrType&#x27;, &#x27;ExterQual&#x27;, &#x27;ExterCond&#x27;,\n",
              "       &#x27;Foundation&#x27;, &#x27;BsmtQual&#x27;, &#x27;BsmtCond&#x27;, &#x27;BsmtExposure&#x27;, &#x27;BsmtFinType1&#x27;,\n",
              "       &#x27;BsmtFinType2&#x27;, &#x27;Heating&#x27;, &#x27;HeatingQC&#x27;, &#x27;CentralAir&#x27;, &#x27;Electrical&#x27;,\n",
              "       &#x27;KitchenQual&#x27;, &#x27;Functional&#x27;, &#x27;GarageType&#x27;, &#x27;GarageFinish&#x27;, &#x27;GarageQual&#x27;,\n",
              "       &#x27;GarageCond&#x27;, &#x27;PavedDrive&#x27;, &#x27;SaleType&#x27;, &#x27;SaleCondition&#x27;, &#x27;Exterior&#x27;,\n",
              "       &#x27;Condition&#x27;],\n",
              "      dtype=&#x27;object&#x27;)</pre></div> </div></div><div class=\"sk-serial\"><div class=\"sk-item\"><div class=\"sk-serial\"><div class=\"sk-item\"><div class=\"sk-estimator fitted sk-toggleable\"><input class=\"sk-toggleable__control sk-hidden--visually\" id=\"sk-estimator-id-5\" type=\"checkbox\" ><label for=\"sk-estimator-id-5\" class=\"sk-toggleable__label fitted sk-toggleable__label-arrow\"><div><div>SimpleImputer</div></div><div><a class=\"sk-estimator-doc-link fitted\" rel=\"noreferrer\" target=\"_blank\" href=\"https://scikit-learn.org/1.6/modules/generated/sklearn.impute.SimpleImputer.html\">?<span>Documentation for SimpleImputer</span></a></div></label><div class=\"sk-toggleable__content fitted\"><pre>SimpleImputer(strategy=&#x27;most_frequent&#x27;)</pre></div> </div></div><div class=\"sk-item\"><div class=\"sk-estimator fitted sk-toggleable\"><input class=\"sk-toggleable__control sk-hidden--visually\" id=\"sk-estimator-id-6\" type=\"checkbox\" ><label for=\"sk-estimator-id-6\" class=\"sk-toggleable__label fitted sk-toggleable__label-arrow\"><div><div>OneHotEncoder</div></div><div><a class=\"sk-estimator-doc-link fitted\" rel=\"noreferrer\" target=\"_blank\" href=\"https://scikit-learn.org/1.6/modules/generated/sklearn.preprocessing.OneHotEncoder.html\">?<span>Documentation for OneHotEncoder</span></a></div></label><div class=\"sk-toggleable__content fitted\"><pre>OneHotEncoder(drop=&#x27;first&#x27;, handle_unknown=&#x27;ignore&#x27;)</pre></div> </div></div></div></div></div></div></div><div class=\"sk-parallel-item\"><div class=\"sk-item\"><div class=\"sk-label-container\"><div class=\"sk-label fitted sk-toggleable\"><input class=\"sk-toggleable__control sk-hidden--visually\" id=\"sk-estimator-id-7\" type=\"checkbox\" ><label for=\"sk-estimator-id-7\" class=\"sk-toggleable__label fitted sk-toggleable__label-arrow\"><div><div>num</div></div></label><div class=\"sk-toggleable__content fitted\"><pre>Index([&#x27;MSSubClass&#x27;, &#x27;LotFrontage&#x27;, &#x27;LotArea&#x27;, &#x27;OverallQual&#x27;, &#x27;OverallCond&#x27;,\n",
              "       &#x27;YearBuilt&#x27;, &#x27;YearRemodAdd&#x27;, &#x27;MasVnrArea&#x27;, &#x27;BsmtFinSF1&#x27;, &#x27;BsmtFinSF2&#x27;,\n",
              "       &#x27;BsmtUnfSF&#x27;, &#x27;TotalBsmtSF&#x27;, &#x27;1stFlrSF&#x27;, &#x27;2ndFlrSF&#x27;, &#x27;LowQualFinSF&#x27;,\n",
              "       &#x27;GrLivArea&#x27;, &#x27;BsmtFullBath&#x27;, &#x27;BsmtHalfBath&#x27;, &#x27;FullBath&#x27;, &#x27;HalfBath&#x27;,\n",
              "       &#x27;BedroomAbvGr&#x27;, &#x27;KitchenAbvGr&#x27;, &#x27;TotRmsAbvGrd&#x27;, &#x27;Fireplaces&#x27;,\n",
              "       &#x27;GarageYrBlt&#x27;, &#x27;GarageCars&#x27;, &#x27;GarageArea&#x27;, &#x27;WoodDeckSF&#x27;, &#x27;OpenPorchSF&#x27;,\n",
              "       &#x27;EnclosedPorch&#x27;, &#x27;3SsnPorch&#x27;, &#x27;ScreenPorch&#x27;, &#x27;PoolArea&#x27;, &#x27;MiscVal&#x27;,\n",
              "       &#x27;MoSold&#x27;, &#x27;YrSold&#x27;],\n",
              "      dtype=&#x27;object&#x27;)</pre></div> </div></div><div class=\"sk-serial\"><div class=\"sk-item\"><div class=\"sk-estimator fitted sk-toggleable\"><input class=\"sk-toggleable__control sk-hidden--visually\" id=\"sk-estimator-id-8\" type=\"checkbox\" ><label for=\"sk-estimator-id-8\" class=\"sk-toggleable__label fitted sk-toggleable__label-arrow\"><div><div>StandardScaler</div></div><div><a class=\"sk-estimator-doc-link fitted\" rel=\"noreferrer\" target=\"_blank\" href=\"https://scikit-learn.org/1.6/modules/generated/sklearn.preprocessing.StandardScaler.html\">?<span>Documentation for StandardScaler</span></a></div></label><div class=\"sk-toggleable__content fitted\"><pre>StandardScaler()</pre></div> </div></div></div></div></div><div class=\"sk-parallel-item\"><div class=\"sk-item\"><div class=\"sk-label-container\"><div class=\"sk-label fitted sk-toggleable\"><input class=\"sk-toggleable__control sk-hidden--visually\" id=\"sk-estimator-id-9\" type=\"checkbox\" ><label for=\"sk-estimator-id-9\" class=\"sk-toggleable__label fitted sk-toggleable__label-arrow\"><div><div>remainder</div></div></label><div class=\"sk-toggleable__content fitted\"><pre>[]</pre></div> </div></div><div class=\"sk-serial\"><div class=\"sk-item\"><div class=\"sk-estimator fitted sk-toggleable\"><input class=\"sk-toggleable__control sk-hidden--visually\" id=\"sk-estimator-id-10\" type=\"checkbox\" ><label for=\"sk-estimator-id-10\" class=\"sk-toggleable__label fitted sk-toggleable__label-arrow\"><div><div>passthrough</div></div></label><div class=\"sk-toggleable__content fitted\"><pre>passthrough</pre></div> </div></div></div></div></div></div></div><div class=\"sk-item\"><div class=\"sk-estimator fitted sk-toggleable\"><input class=\"sk-toggleable__control sk-hidden--visually\" id=\"sk-estimator-id-11\" type=\"checkbox\" ><label for=\"sk-estimator-id-11\" class=\"sk-toggleable__label fitted sk-toggleable__label-arrow\"><div><div>CatBoostRegressor</div></div></label><div class=\"sk-toggleable__content fitted\"><pre>&lt;catboost.core.CatBoostRegressor object at 0x7fbdcc1ae010&gt;</pre></div> </div></div></div></div></div></div></div></div></div></div></div>"
            ]
          },
          "metadata": {},
          "execution_count": 56
        }
      ],
      "source": [
        "grid = GridSearchCV(\n",
        "    pipe_final,\n",
        "    param_grid=param_distributions,\n",
        "    cv=3,\n",
        "    scoring='neg_mean_absolute_error',\n",
        "    n_jobs = -1\n",
        ")\n",
        "grid.fit(X_train, y_train)"
      ]
    },
    {
      "cell_type": "code",
      "execution_count": 57,
      "metadata": {
        "colab": {
          "base_uri": "https://localhost:8080/"
        },
        "id": "wEZAHOyqIMCQ",
        "outputId": "821c8c64-43fe-4df5-e30c-be7b8f4655bc"
      },
      "outputs": [
        {
          "output_type": "stream",
          "name": "stdout",
          "text": [
            "Лучшая модель и её параметры:\n",
            "\n",
            " Pipeline(steps=[('preprocessor',\n",
            "                 ColumnTransformer(remainder='passthrough',\n",
            "                                   transformers=[('ohe',\n",
            "                                                  Pipeline(steps=[('imputer',\n",
            "                                                                   SimpleImputer(strategy='most_frequent')),\n",
            "                                                                  ('ohe',\n",
            "                                                                   OneHotEncoder(drop='first',\n",
            "                                                                                 handle_unknown='ignore'))]),\n",
            "                                                  Index(['MSZoning', 'Street', 'LotShape', 'LandContour', 'Utilities',\n",
            "       'LotConfig', 'LandSlope', 'Neighborhood', 'BldgType', 'HouseStyle...\n",
            "       'GrLivArea', 'BsmtFullBath', 'BsmtHalfBath', 'FullBath', 'HalfBath',\n",
            "       'BedroomAbvGr', 'KitchenAbvGr', 'TotRmsAbvGrd', 'Fireplaces',\n",
            "       'GarageYrBlt', 'GarageCars', 'GarageArea', 'WoodDeckSF', 'OpenPorchSF',\n",
            "       'EnclosedPorch', '3SsnPorch', 'ScreenPorch', 'PoolArea', 'MiscVal',\n",
            "       'MoSold', 'YrSold'],\n",
            "      dtype='object'))])),\n",
            "                ('models',\n",
            "                 <catboost.core.CatBoostRegressor object at 0x7fbdcc1ae010>)])\n",
            "Метрика лучшей модели на тренировочной выборке: -15044.562899659992\n"
          ]
        }
      ],
      "source": [
        "\n",
        "print('Лучшая модель и её параметры:\\n\\n', grid.best_estimator_)\n",
        "print ('Метрика лучшей модели на тренировочной выборке:', grid.best_score_)"
      ]
    },
    {
      "cell_type": "markdown",
      "source": [
        "### Валидационный датасет"
      ],
      "metadata": {
        "id": "lno0SZe6xXpn"
      }
    },
    {
      "cell_type": "code",
      "execution_count": 58,
      "metadata": {
        "colab": {
          "base_uri": "https://localhost:8080/"
        },
        "id": "D_jMv3hchknk",
        "outputId": "41e983fa-b3aa-4a02-b044-d4e7a70d568d"
      },
      "outputs": [
        {
          "output_type": "stream",
          "name": "stderr",
          "text": [
            "/usr/local/lib/python3.11/dist-packages/sklearn/preprocessing/_encoders.py:246: UserWarning: Found unknown categories in columns [34, 35] during transform. These unknown categories will be encoded as all zeros\n",
            "  warnings.warn(\n"
          ]
        }
      ],
      "source": [
        "model = grid.best_estimator_\n",
        "y_pred = model.predict(X_val)"
      ]
    },
    {
      "cell_type": "code",
      "source": [
        "mae = mean_absolute_error(y_val,y_pred) *(-1)\n",
        "mae"
      ],
      "metadata": {
        "colab": {
          "base_uri": "https://localhost:8080/"
        },
        "id": "0flcFp7uugs5",
        "outputId": "a7119b19-88c4-451e-80c7-8b2131f36243"
      },
      "execution_count": 59,
      "outputs": [
        {
          "output_type": "execute_result",
          "data": {
            "text/plain": [
              "-13178.74759755094"
            ]
          },
          "metadata": {},
          "execution_count": 59
        }
      ]
    },
    {
      "cell_type": "markdown",
      "source": [
        "### Тестовый датасет"
      ],
      "metadata": {
        "id": "7Fnw_7Yqxhg8"
      }
    },
    {
      "cell_type": "code",
      "source": [
        "\n",
        "y_pred = model.predict(test)"
      ],
      "metadata": {
        "colab": {
          "base_uri": "https://localhost:8080/"
        },
        "id": "EkM0BDC0vOSz",
        "outputId": "f1bd94f3-3c13-44b5-f6e5-d157c55026a0"
      },
      "execution_count": 60,
      "outputs": [
        {
          "output_type": "stream",
          "name": "stderr",
          "text": [
            "/usr/local/lib/python3.11/dist-packages/sklearn/preprocessing/_encoders.py:246: UserWarning: Found unknown categories in columns [0, 4, 25, 26, 32, 34, 35] during transform. These unknown categories will be encoded as all zeros\n",
            "  warnings.warn(\n"
          ]
        }
      ]
    },
    {
      "cell_type": "code",
      "execution_count": 61,
      "metadata": {
        "id": "q_bAjfGxhknl"
      },
      "outputs": [],
      "source": [
        "predictions = pd.DataFrame()"
      ]
    },
    {
      "cell_type": "code",
      "execution_count": 62,
      "metadata": {
        "id": "BSmfgh7Lhknl"
      },
      "outputs": [],
      "source": [
        "predictions['Id'] = test_ids"
      ]
    },
    {
      "cell_type": "code",
      "execution_count": 63,
      "metadata": {
        "id": "3FZXj3vuhknl"
      },
      "outputs": [],
      "source": [
        "predictions['SalePrice'] = y_pred"
      ]
    },
    {
      "cell_type": "code",
      "execution_count": 64,
      "metadata": {
        "colab": {
          "base_uri": "https://localhost:8080/"
        },
        "id": "N31WU7zshknl",
        "outputId": "2c27e61d-b271-4ccf-bf24-7b29c6ef941b"
      },
      "outputs": [
        {
          "output_type": "execute_result",
          "data": {
            "text/plain": [
              "(1459, 2)"
            ]
          },
          "metadata": {},
          "execution_count": 64
        }
      ],
      "source": [
        "predictions.shape"
      ]
    },
    {
      "cell_type": "code",
      "execution_count": 65,
      "metadata": {
        "id": "MnwvCD5thknl"
      },
      "outputs": [],
      "source": [
        "predictions.to_csv('out.csv',index=False)"
      ]
    },
    {
      "cell_type": "markdown",
      "source": [
        "## Результаты\n",
        "\n",
        "на момент сдачи удалось добиться 56 места"
      ],
      "metadata": {
        "id": "gNYBayuFyEjX"
      }
    },
    {
      "cell_type": "markdown",
      "source": [
        "![image.png](data:image/png;base64,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)"
      ],
      "metadata": {
        "id": "qdfNrRh7kHHW"
      }
    },
    {
      "cell_type": "markdown",
      "source": [
        "![57место.PNG](data:image/png;base64,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)"
      ],
      "metadata": {
        "id": "ZAJeeekvx_mR"
      }
    }
  ]
}